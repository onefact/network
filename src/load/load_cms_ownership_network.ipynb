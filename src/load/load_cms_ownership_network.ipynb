{
 "cells": [
  {
   "cell_type": "code",
   "execution_count": null,
   "metadata": {},
   "outputs": [],
   "source": []
  },
  {
   "cell_type": "markdown",
   "metadata": {},
   "source": [
    "%md\n",
    "\n",
    "# Purpose\n",
    "Load CMS ownership data from SQLite to Kuzu Graph Database\n",
    "\n",
    "### Entity Types\n",
    "- Person\n",
    "- Organization\n",
    "\n",
    "### Notes\n",
    "In modeling, followed these guide:\n",
    "- https://blog.kuzudb.com/post/transforming-your-data-to-graphs-1/\n",
    "- https://blog.kuzudb.com/post/transforming-your-data-to-graphs-2/\n"
   ]
  },
  {
   "cell_type": "markdown",
   "metadata": {},
   "source": [
    "%md\n",
    "\n",
    "### Check Work\n",
    "1. Validate owner count on a sample\n",
    "2. "
   ]
  }
 ],
 "metadata": {
  "language_info": {
   "name": "python"
  }
 },
 "nbformat": 4,
 "nbformat_minor": 2
}
