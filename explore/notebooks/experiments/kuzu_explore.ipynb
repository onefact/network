{
 "cells": [
  {
   "cell_type": "code",
   "execution_count": 4,
   "metadata": {},
   "outputs": [],
   "source": [
    "import kuzu\n",
    "from pathlib import Path\n",
    "import os\n",
    "\n",
    "\n",
    "DATA_PATH = Path(\"../../../data/staging\")\n",
    "DB_NAME = \"pecos_plus.db\"\n",
    "DEST_PATH = os.path.join(DATA_PATH, DB_NAME)\n",
    "\n",
    "db = kuzu.Database(DEST_PATH)\n",
    "conn = kuzu.Connection(db)"
   ]
  },
  {
   "cell_type": "code",
   "execution_count": 2,
   "metadata": {},
   "outputs": [
    {
     "name": "stdout",
     "output_type": "stream",
     "text": [
      "['AffiliatedWith_LegalEntity_PECOSEnrolledCareProvider', 'REL', 'local(kuzu)', '']\n",
      "['AffiliatedWith', 'REL_GROUP', 'local(kuzu)', '']\n",
      "['EmployedBy', 'REL', 'local(kuzu)', '']\n",
      "['OwnedBy_PECOSEnrolledCareProvider_LegalEntity', 'REL', 'local(kuzu)', '']\n",
      "['LocatedAt_Person_Address', 'REL', 'local(kuzu)', '']\n",
      "['AffiliatedWith_Person_LegalEntity', 'REL', 'local(kuzu)', '']\n",
      "['LocatedAt', 'REL_GROUP', 'local(kuzu)', '']\n",
      "['LocatedAt_PECOSEnrolledCareProvider_Address', 'REL', 'local(kuzu)', '']\n",
      "['Person', 'NODE', 'local(kuzu)', '']\n",
      "['OwnedBy_PECOSEnrolledCareProvider_Person', 'REL', 'local(kuzu)', '']\n",
      "['Address', 'NODE', 'local(kuzu)', '']\n",
      "['LegalEntity', 'NODE', 'local(kuzu)', '']\n",
      "['OwnedBy', 'REL_GROUP', 'local(kuzu)', '']\n",
      "['AffiliatedWith_Person_PECOSEnrolledCareProvider', 'REL', 'local(kuzu)', '']\n",
      "['PECOSEnrolledCareProvider', 'NODE', 'local(kuzu)', '']\n"
     ]
    }
   ],
   "source": [
    "# Define the schema\n",
    "results = conn.execute(\"CALL show_tables() RETURN *;\")\n",
    "while results.has_next():\n",
    "    print(results.get_next())\n",
    "\n"
   ]
  },
  {
   "cell_type": "code",
   "execution_count": 3,
   "metadata": {},
   "outputs": [
    {
     "data": {
      "text/plain": [
       "False"
      ]
     },
     "execution_count": 3,
     "metadata": {},
     "output_type": "execute_result"
    }
   ],
   "source": [
    "results.has_next()"
   ]
  },
  {
   "cell_type": "code",
   "execution_count": 5,
   "metadata": {},
   "outputs": [
    {
     "name": "stdout",
     "output_type": "stream",
     "text": [
      "[{'_id': {'offset': 0, 'table': 0}, '_label': 'Person', 'associate_id': '0042100026', 'first_name': 'PETER', 'middle_name': 'K', 'last_name': 'FUNG'}]\n",
      "[{'_id': {'offset': 0, 'table': 2}, '_label': 'PECOSEnrolledCareProvider', 'associate_id': '5193632180', 'enrollment_id': 'O20020812000015', 'enrollment_state': 'TN', 'provider_type_code': '00-09', 'provider_type_text': 'PART A PROVIDER - HOSPITAL', 'npi': '1467408781', 'multiple_npi_flag': 'N', 'ccn': '440058', 'organization_name': 'SOUTHERN TENNESSEE MEDICAL CENTER LLC', 'doing_business_as_name': 'SOUTHERN TENNESSEE REGIONAL HEALTH SYSTEM WINCHESTER', 'incorporation_date': '1998-11-09', 'incorporation_state': 'DE', 'organization_type_structure': 'LLC', 'organization_other_type_text': None, 'proprietary_nonprofit': 'P', 'practice_location_type': 'MAIN/PRIMARY HOSPITAL LOCATION', 'location_other_type_text': None}]\n"
     ]
    }
   ],
   "source": [
    "results = conn.execute(\"\"\"\n",
    "    MATCH (p:Person) RETURN * LIMIT 10;\n",
    "\"\"\")\n",
    "print(results.get_next())\n",
    "\n",
    "results = conn.execute(\"\"\"\n",
    "    MATCH (p:PECOSEnrolledCareProvider) RETURN * LIMIT 10;\n",
    "\"\"\")\n",
    "print(results.get_next())"
   ]
  },
  {
   "cell_type": "code",
   "execution_count": 6,
   "metadata": {},
   "outputs": [],
   "source": [
    "# \"\"\"\n",
    "# [{'_id': {'offset': 0, 'table': 0}, '_label': 'Person', 'associate_id': '0042100026', 'first_name': 'PETER', 'middle_name': 'K', 'last_name': 'FUNG'}]\n",
    "# [{'_id': {'offset': 12288, 'table': 2}, '_label': 'PECOSEnrolledCareProvider', 'associate_id': '0042301640', 'enrollment_id': 'O20070810000797', 'enrollment_state': 'CA', 'provider_type_code': '00-06', 'provider_type_text': 'PART A PROVIDER - HOME HEALTH AGENCY', 'npi': '1467643809', 'multiple_npi_flag': 'N', 'ccn': '059092', 'organization_name': 'DIRECT NURSING SERVICES, INC.', 'doing_business_as_name': None, 'incorporation_date': '2007-06-20', 'incorporation_state': 'CA', 'organization_type_structure': 'CORPORATION', 'organization_other_type_text': None, 'proprietary_nonprofit': 'P', 'practice_location_type': None, 'location_other_type_text': None}]\n",
    "# \"\"\"\n",
    "\n",
    "# result = conn.execute(\"\"\"\n",
    "#     MATCH (p1:PECOSEnrolledCareProvider), (p2:Person) \n",
    "#     WHERE p1.associate_id = '0042301640' AND p2.associate_id = '0042100026' \n",
    "#     CREATE (p1)-[:OwnedBy {percentage_ownership: '10%', role_text: 'Big Dawg'}]->(p2)\n",
    "# \"\"\")\n",
    "\n",
    "# results = conn.execute(\"\"\"\n",
    "#     MATCH (p:PECOSEnrolledCareProvider)-[r:OwnedBy]->(p2:Person) RETURN r.role_text, p2.first_name LIMIT 10;\n",
    "# \"\"\")\n",
    "\n",
    "# print(results.get_next())"
   ]
  },
  {
   "cell_type": "code",
   "execution_count": 7,
   "metadata": {},
   "outputs": [
    {
     "name": "stdout",
     "output_type": "stream",
     "text": [
      "Number of relationships: [1753]\n"
     ]
    }
   ],
   "source": [
    "results = conn.execute(\"\"\"\n",
    "    MATCH (p:PECOSEnrolledCareProvider)-[r:OwnedBy]->(p2:Person) RETURN r.role_text, p2.first_name LIMIT 10;\n",
    "\"\"\")\n",
    "\n",
    "count_query = \"MATCH ()-[r]->() RETURN count(r) AS relationship_count\"\n",
    "results = conn.execute(count_query)\n",
    "relationship_count = results.get_next()\n",
    "print(\"Number of relationships:\", relationship_count)\n"
   ]
  },
  {
   "cell_type": "code",
   "execution_count": null,
   "metadata": {},
   "outputs": [],
   "source": []
  }
 ],
 "metadata": {
  "kernelspec": {
   "display_name": "bb_bricker",
   "language": "python",
   "name": "python3"
  },
  "language_info": {
   "codemirror_mode": {
    "name": "ipython",
    "version": 3
   },
   "file_extension": ".py",
   "mimetype": "text/x-python",
   "name": "python",
   "nbconvert_exporter": "python",
   "pygments_lexer": "ipython3",
   "version": "3.12.3"
  }
 },
 "nbformat": 4,
 "nbformat_minor": 2
}
