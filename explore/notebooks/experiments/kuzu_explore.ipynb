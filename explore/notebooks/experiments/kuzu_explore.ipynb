{
 "cells": [
  {
   "cell_type": "code",
   "execution_count": 7,
   "metadata": {},
   "outputs": [],
   "source": [
    "import kuzu\n",
    "from pathlib import Path\n",
    "import os\n",
    "\n",
    "\n",
    "DATA_PATH = Path(\"../../../data/staging\")\n",
    "DB_NAME = \"pecos_plus.db\"\n",
    "DEST_PATH = os.path.join(DATA_PATH, DB_NAME)\n",
    "\n",
    "db = kuzu.Database(DEST_PATH)\n",
    "conn = kuzu.Connection(db)"
   ]
  },
  {
   "cell_type": "code",
   "execution_count": 8,
   "metadata": {},
   "outputs": [
    {
     "name": "stdout",
     "output_type": "stream",
     "text": [
      "['AffiliatedWith_LegalEntity_PECOSEnrolledCareProvider', 'REL', 'local(kuzu)', '']\n",
      "['AffiliatedWith', 'REL_GROUP', 'local(kuzu)', '']\n",
      "['EmployedBy', 'REL', 'local(kuzu)', '']\n",
      "['OwnedBy_PECOSEnrolledCareProvider_LegalEntity', 'REL', 'local(kuzu)', '']\n",
      "['LocatedAt_Person_Address', 'REL', 'local(kuzu)', '']\n",
      "['AffiliatedWith_Person_LegalEntity', 'REL', 'local(kuzu)', '']\n",
      "['LocatedAt', 'REL_GROUP', 'local(kuzu)', '']\n",
      "['LocatedAt_PECOSEnrolledCareProvider_Address', 'REL', 'local(kuzu)', '']\n",
      "['Person', 'NODE', 'local(kuzu)', '']\n",
      "['OwnedBy_PECOSEnrolledCareProvider_Person', 'REL', 'local(kuzu)', '']\n",
      "['Address', 'NODE', 'local(kuzu)', '']\n",
      "['LegalEntity', 'NODE', 'local(kuzu)', '']\n",
      "['OwnedBy', 'REL_GROUP', 'local(kuzu)', '']\n",
      "['AffiliatedWith_Person_PECOSEnrolledCareProvider', 'REL', 'local(kuzu)', '']\n",
      "['PECOSEnrolledCareProvider', 'NODE', 'local(kuzu)', '']\n"
     ]
    }
   ],
   "source": [
    "# Define the schema\n",
    "results = conn.execute(\"CALL show_tables() RETURN *;\")\n",
    "while results.has_next():\n",
    "    print(results.get_next())\n",
    "\n"
   ]
  },
  {
   "cell_type": "code",
   "execution_count": 4,
   "metadata": {},
   "outputs": [
    {
     "data": {
      "text/plain": [
       "False"
      ]
     },
     "execution_count": 4,
     "metadata": {},
     "output_type": "execute_result"
    }
   ],
   "source": [
    "results.has_next()"
   ]
  },
  {
   "cell_type": "markdown",
   "metadata": {},
   "source": [
    "Test a REL GROUP CREATE statement"
   ]
  },
  {
   "cell_type": "code",
   "execution_count": null,
   "metadata": {},
   "outputs": [],
   "source": [
    "results = conn.exedcute(\"MATCH \")"
   ]
  },
  {
   "cell_type": "code",
   "execution_count": 29,
   "metadata": {},
   "outputs": [
    {
     "name": "stdout",
     "output_type": "stream",
     "text": [
      "[{'_id': {'offset': 0, 'table': 0}, '_label': 'Person', 'associate_id': '0042100026', 'first_name': 'PETER', 'middle_name': 'K', 'last_name': 'FUNG'}]\n",
      "[{'_id': {'offset': 12288, 'table': 2}, '_label': 'PECOSEnrolledCareProvider', 'associate_id': '0042301640', 'enrollment_id': 'O20070810000797', 'enrollment_state': 'CA', 'provider_type_code': '00-06', 'provider_type_text': 'PART A PROVIDER - HOME HEALTH AGENCY', 'npi': '1467643809', 'multiple_npi_flag': 'N', 'ccn': '059092', 'organization_name': 'DIRECT NURSING SERVICES, INC.', 'doing_business_as_name': None, 'incorporation_date': '2007-06-20', 'incorporation_state': 'CA', 'organization_type_structure': 'CORPORATION', 'organization_other_type_text': None, 'proprietary_nonprofit': 'P', 'practice_location_type': None, 'location_other_type_text': None}]\n"
     ]
    }
   ],
   "source": [
    "results = conn.execute(\"\"\"\n",
    "    MATCH (p:Person) RETURN * LIMIT 10;\n",
    "\"\"\")\n",
    "print(results.get_next())\n",
    "\n",
    "results = conn.execute(\"\"\"\n",
    "    MATCH (p:PECOSEnrolledCareProvider) RETURN * LIMIT 10;\n",
    "\"\"\")\n",
    "print(results.get_next())"
   ]
  },
  {
   "cell_type": "code",
   "execution_count": 28,
   "metadata": {},
   "outputs": [
    {
     "name": "stdout",
     "output_type": "stream",
     "text": [
      "['Big Dawg', 'PETER']\n"
     ]
    }
   ],
   "source": [
    "\"\"\"\n",
    "[{'_id': {'offset': 0, 'table': 0}, '_label': 'Person', 'associate_id': '0042100026', 'first_name': 'PETER', 'middle_name': 'K', 'last_name': 'FUNG'}]\n",
    "[{'_id': {'offset': 12288, 'table': 2}, '_label': 'PECOSEnrolledCareProvider', 'associate_id': '0042301640', 'enrollment_id': 'O20070810000797', 'enrollment_state': 'CA', 'provider_type_code': '00-06', 'provider_type_text': 'PART A PROVIDER - HOME HEALTH AGENCY', 'npi': '1467643809', 'multiple_npi_flag': 'N', 'ccn': '059092', 'organization_name': 'DIRECT NURSING SERVICES, INC.', 'doing_business_as_name': None, 'incorporation_date': '2007-06-20', 'incorporation_state': 'CA', 'organization_type_structure': 'CORPORATION', 'organization_other_type_text': None, 'proprietary_nonprofit': 'P', 'practice_location_type': None, 'location_other_type_text': None}]\n",
    "\"\"\"\n",
    "\n",
    "result = conn.execute(\"\"\"\n",
    "    MATCH (p1:PECOSEnrolledCareProvider), (p2:Person) \n",
    "    WHERE p1.associate_id = '0042301640' AND p2.associate_id = '0042100026' \n",
    "    CREATE (p1)-[:OwnedBy {percentage_ownership: '10%', role_text: 'Big Dawg'}]->(p2)\n",
    "\"\"\")\n",
    "\n",
    "results = conn.execute(\"\"\"\n",
    "    MATCH (p:PECOSEnrolledCareProvider)-[r:OwnedBy]->(p2:Person) RETURN r.role_text, p2.first_name LIMIT 10;\n",
    "\"\"\")\n",
    "\n",
    "print(results.get_next())"
   ]
  },
  {
   "cell_type": "code",
   "execution_count": 9,
   "metadata": {},
   "outputs": [
    {
     "name": "stdout",
     "output_type": "stream",
     "text": [
      "['test', None, 'PETER']\n"
     ]
    }
   ],
   "source": [
    "result = conn.execute(\"\"\"\n",
    "    MATCH (p1:PECOSEnrolledCareProvider), (p2:Person) \n",
    "    WHERE p1.associate_id = '0042301640' AND p2.associate_id = '0042100026' \n",
    "    CREATE (p1)-[:OwnedBy {\n",
    "        role_text: $role_text,\n",
    "        percentage_ownership: $percentage_ownership\n",
    "    }]->(p2);\n",
    "\"\"\",\n",
    "parameters={\"role_text\": \"test\", \"percentage_ownership\": \"10%\"})\n",
    "\n",
    "results = conn.execute(\"\"\"\n",
    "    MATCH (p:PECOSEnrolledCareProvider)-[r:OwnedBy]->(p2:Person) RETURN r.role_text, r.percentage_ownership, p2.first_name LIMIT 10;\n",
    "\"\"\")\n",
    "\n",
    "print(results.get_next())"
   ]
  },
  {
   "cell_type": "code",
   "execution_count": 5,
   "metadata": {},
   "outputs": [],
   "source": [
    "statement2 = \"\"\"MATCH (p:PECOSEnrolledCareProvider), (o:Person) WHERE p.enrollment_id = $enrollment_id AND o.associate_id = $associate_id CREATE (p)-[:OwnedBy {role_code $role_code, role_text $role_text, title $title, association_date $association_date, percentage_ownership $percentage_ownership}]->(o);\"\"\""
   ]
  },
  {
   "cell_type": "code",
   "execution_count": null,
   "metadata": {},
   "outputs": [],
   "source": []
  }
 ],
 "metadata": {
  "kernelspec": {
   "display_name": "bb_bricker",
   "language": "python",
   "name": "python3"
  },
  "language_info": {
   "codemirror_mode": {
    "name": "ipython",
    "version": 3
   },
   "file_extension": ".py",
   "mimetype": "text/x-python",
   "name": "python",
   "nbconvert_exporter": "python",
   "pygments_lexer": "ipython3",
   "version": "3.12.3"
  }
 },
 "nbformat": 4,
 "nbformat_minor": 2
}
