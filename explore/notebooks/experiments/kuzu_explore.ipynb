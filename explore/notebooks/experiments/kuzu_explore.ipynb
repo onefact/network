{
 "cells": [
  {
   "cell_type": "code",
   "execution_count": 10,
   "metadata": {},
   "outputs": [],
   "source": [
    "import kuzu\n",
    "from pathlib import Path\n",
    "import os\n",
    "\n",
    "\n",
    "DATA_PATH = Path(\"../../../data/staging\")\n",
    "DB_NAME = \"pecos_plus.db\"\n",
    "DEST_PATH = os.path.join(DATA_PATH, DB_NAME)\n",
    "\n",
    "db = kuzu.Database(DEST_PATH)\n",
    "conn = kuzu.Connection(db)"
   ]
  },
  {
   "cell_type": "code",
   "execution_count": 12,
   "metadata": {},
   "outputs": [
    {
     "name": "stdout",
     "output_type": "stream",
     "text": [
      "['AffiliatedWith_LegalEntity_PECOSEnrolledCareProvider', 'REL', 'local(kuzu)', '']\n",
      "['AffiliatedWith', 'REL_GROUP', 'local(kuzu)', '']\n",
      "['EmployedBy', 'REL', 'local(kuzu)', '']\n",
      "['OwnedBy_PECOSEnrolledCareProvider_LegalEntity', 'REL', 'local(kuzu)', '']\n",
      "['LocatedAt_Person_Address', 'REL', 'local(kuzu)', '']\n",
      "['AffiliatedWith_Person_LegalEntity', 'REL', 'local(kuzu)', '']\n",
      "['LocatedAt', 'REL_GROUP', 'local(kuzu)', '']\n",
      "['LocatedAt_PECOSEnrolledCareProvider_Address', 'REL', 'local(kuzu)', '']\n",
      "['Person', 'NODE', 'local(kuzu)', '']\n",
      "['OwnedBy_PECOSEnrolledCareProvider_Person', 'REL', 'local(kuzu)', '']\n",
      "['Address', 'NODE', 'local(kuzu)', '']\n",
      "['LegalEntity', 'NODE', 'local(kuzu)', '']\n",
      "['OwnedBy', 'REL_GROUP', 'local(kuzu)', '']\n",
      "['AffiliatedWith_Person_PECOSEnrolledCareProvider', 'REL', 'local(kuzu)', '']\n",
      "['PECOSEnrolledCareProvider', 'NODE', 'local(kuzu)', '']\n"
     ]
    }
   ],
   "source": [
    "# Define the schema\n",
    "results = conn.execute(\"CALL show_tables() RETURN *;\")\n",
    "while results.has_next():\n",
    "    print(results.get_next())\n",
    "\n"
   ]
  },
  {
   "cell_type": "code",
   "execution_count": 4,
   "metadata": {},
   "outputs": [
    {
     "data": {
      "text/plain": [
       "False"
      ]
     },
     "execution_count": 4,
     "metadata": {},
     "output_type": "execute_result"
    }
   ],
   "source": [
    "results.has_next()"
   ]
  },
  {
   "cell_type": "markdown",
   "metadata": {},
   "source": [
    "Test a REL GROUP CREATE statement"
   ]
  },
  {
   "cell_type": "code",
   "execution_count": null,
   "metadata": {},
   "outputs": [],
   "source": [
    "results = conn.exedcute(\"MATCH \")"
   ]
  },
  {
   "cell_type": "code",
   "execution_count": 29,
   "metadata": {},
   "outputs": [
    {
     "name": "stdout",
     "output_type": "stream",
     "text": [
      "[{'_id': {'offset': 0, 'table': 0}, '_label': 'Person', 'associate_id': '0042100026', 'first_name': 'PETER', 'middle_name': 'K', 'last_name': 'FUNG'}]\n",
      "[{'_id': {'offset': 12288, 'table': 2}, '_label': 'PECOSEnrolledCareProvider', 'associate_id': '0042301640', 'enrollment_id': 'O20070810000797', 'enrollment_state': 'CA', 'provider_type_code': '00-06', 'provider_type_text': 'PART A PROVIDER - HOME HEALTH AGENCY', 'npi': '1467643809', 'multiple_npi_flag': 'N', 'ccn': '059092', 'organization_name': 'DIRECT NURSING SERVICES, INC.', 'doing_business_as_name': None, 'incorporation_date': '2007-06-20', 'incorporation_state': 'CA', 'organization_type_structure': 'CORPORATION', 'organization_other_type_text': None, 'proprietary_nonprofit': 'P', 'practice_location_type': None, 'location_other_type_text': None}]\n"
     ]
    }
   ],
   "source": [
    "results = conn.execute(\"\"\"\n",
    "    MATCH (p:Person) RETURN * LIMIT 10;\n",
    "\"\"\")\n",
    "print(results.get_next())\n",
    "\n",
    "results = conn.execute(\"\"\"\n",
    "    MATCH (p:PECOSEnrolledCareProvider) RETURN * LIMIT 10;\n",
    "\"\"\")\n",
    "print(results.get_next())"
   ]
  },
  {
   "cell_type": "code",
   "execution_count": 28,
   "metadata": {},
   "outputs": [
    {
     "name": "stdout",
     "output_type": "stream",
     "text": [
      "['Big Dawg', 'PETER']\n"
     ]
    }
   ],
   "source": [
    "\"\"\"\n",
    "[{'_id': {'offset': 0, 'table': 0}, '_label': 'Person', 'associate_id': '0042100026', 'first_name': 'PETER', 'middle_name': 'K', 'last_name': 'FUNG'}]\n",
    "[{'_id': {'offset': 12288, 'table': 2}, '_label': 'PECOSEnrolledCareProvider', 'associate_id': '0042301640', 'enrollment_id': 'O20070810000797', 'enrollment_state': 'CA', 'provider_type_code': '00-06', 'provider_type_text': 'PART A PROVIDER - HOME HEALTH AGENCY', 'npi': '1467643809', 'multiple_npi_flag': 'N', 'ccn': '059092', 'organization_name': 'DIRECT NURSING SERVICES, INC.', 'doing_business_as_name': None, 'incorporation_date': '2007-06-20', 'incorporation_state': 'CA', 'organization_type_structure': 'CORPORATION', 'organization_other_type_text': None, 'proprietary_nonprofit': 'P', 'practice_location_type': None, 'location_other_type_text': None}]\n",
    "\"\"\"\n",
    "\n",
    "result = conn.execute(\"\"\"\n",
    "    MATCH (p1:PECOSEnrolledCareProvider), (p2:Person) \n",
    "    WHERE p1.associate_id = '0042301640' AND p2.associate_id = '0042100026' \n",
    "    CREATE (p1)-[:OwnedBy {percentage_ownership: '10%', role_text: 'Big Dawg'}]->(p2)\n",
    "\"\"\")\n",
    "\n",
    "results = conn.execute(\"\"\"\n",
    "    MATCH (p:PECOSEnrolledCareProvider)-[r:OwnedBy]->(p2:Person) RETURN r.role_text, p2.first_name LIMIT 10;\n",
    "\"\"\")\n",
    "\n",
    "print(results.get_next())"
   ]
  },
  {
   "cell_type": "code",
   "execution_count": null,
   "metadata": {},
   "outputs": [],
   "source": [
    "results = conn.execute(\"\"\"\n",
    "    MATCH (p:PECOSEnrolledCareProvider)-[r:OwnedBy]->(p2:Person) RETURN r.role_text, p2.first_name LIMIT 10;\n",
    "\"\"\"\n",
    ")"
   ]
  },
  {
   "cell_type": "code",
   "execution_count": 30,
   "metadata": {},
   "outputs": [
    {
     "ename": "RuntimeError",
     "evalue": "Parser exception: Invalid input <MATCH (e1:$>: expected rule oC_SingleQuery (line: 2, offset: 22)\n\"            WHERE e1.$pk_col1 = $pk_val1 AND e2.$pk_col2 = $pk_val2\"\n                       ^",
     "output_type": "error",
     "traceback": [
      "\u001b[0;31m---------------------------------------------------------------------------\u001b[0m",
      "\u001b[0;31mRuntimeError\u001b[0m                              Traceback (most recent call last)",
      "Cell \u001b[0;32mIn[30], line 1\u001b[0m\n\u001b[0;32m----> 1\u001b[0m \u001b[43mconn\u001b[49m\u001b[38;5;241;43m.\u001b[39;49m\u001b[43mexecute\u001b[49m\u001b[43m(\u001b[49m\n\u001b[1;32m      2\u001b[0m \u001b[38;5;250;43m            \u001b[39;49m\u001b[38;5;124;43;03m\"\"\"\u001b[39;49;00m\n\u001b[1;32m      3\u001b[0m \u001b[38;5;124;43;03m            MATCH (e1:$entity1), (e2:$entity2)\u001b[39;49;00m\n\u001b[1;32m      4\u001b[0m \u001b[38;5;124;43;03m            WHERE e1.$pk_col1 = $pk_val1 AND e2.$pk_col2 = $pk_val2\u001b[39;49;00m\n\u001b[1;32m      5\u001b[0m \u001b[38;5;124;43;03m            CREATE (e1)-[:OwnedBy]->(e2);\u001b[39;49;00m\n\u001b[1;32m      6\u001b[0m \u001b[38;5;124;43;03m            \"\"\"\u001b[39;49;00m\u001b[43m,\u001b[49m\n\u001b[1;32m      7\u001b[0m \u001b[43m            \u001b[49m\u001b[43mparameters\u001b[49m\u001b[38;5;241;43m=\u001b[39;49m\u001b[43m{\u001b[49m\n\u001b[1;32m      8\u001b[0m \u001b[43m                \u001b[49m\u001b[38;5;124;43m\"\u001b[39;49m\u001b[38;5;124;43mentity1\u001b[39;49m\u001b[38;5;124;43m\"\u001b[39;49m\u001b[43m:\u001b[49m\u001b[43m \u001b[49m\u001b[38;5;124;43m\"\u001b[39;49m\u001b[38;5;124;43mPECOSEnrolledCareProvider\u001b[39;49m\u001b[38;5;124;43m\"\u001b[39;49m\u001b[43m,\u001b[49m\u001b[43m \u001b[49m\n\u001b[1;32m      9\u001b[0m \u001b[43m                \u001b[49m\u001b[38;5;124;43m\"\u001b[39;49m\u001b[38;5;124;43mentity2\u001b[39;49m\u001b[38;5;124;43m\"\u001b[39;49m\u001b[43m:\u001b[49m\u001b[43m \u001b[49m\u001b[38;5;124;43m\"\u001b[39;49m\u001b[38;5;124;43mPerson\u001b[39;49m\u001b[38;5;124;43m\"\u001b[39;49m\u001b[43m,\u001b[49m\n\u001b[1;32m     10\u001b[0m \u001b[43m                \u001b[49m\u001b[38;5;124;43m\"\u001b[39;49m\u001b[38;5;124;43mpk_col1\u001b[39;49m\u001b[38;5;124;43m\"\u001b[39;49m\u001b[43m:\u001b[49m\u001b[43m \u001b[49m\u001b[38;5;124;43m\"\u001b[39;49m\u001b[38;5;124;43massociate_id\u001b[39;49m\u001b[38;5;124;43m\"\u001b[39;49m\u001b[43m,\u001b[49m\n\u001b[1;32m     11\u001b[0m \u001b[43m                \u001b[49m\u001b[38;5;124;43m\"\u001b[39;49m\u001b[38;5;124;43mpk_col2\u001b[39;49m\u001b[38;5;124;43m\"\u001b[39;49m\u001b[43m:\u001b[49m\u001b[43m \u001b[49m\u001b[38;5;124;43m\"\u001b[39;49m\u001b[38;5;124;43massociate_id\u001b[39;49m\u001b[38;5;124;43m\"\u001b[39;49m\u001b[43m,\u001b[49m\n\u001b[1;32m     12\u001b[0m \u001b[43m                \u001b[49m\u001b[38;5;124;43m\"\u001b[39;49m\u001b[38;5;124;43mpk_val1\u001b[39;49m\u001b[38;5;124;43m\"\u001b[39;49m\u001b[43m:\u001b[49m\u001b[43m \u001b[49m\u001b[38;5;124;43m\"\u001b[39;49m\u001b[38;5;124;43m0042301640\u001b[39;49m\u001b[38;5;124;43m\"\u001b[39;49m\u001b[43m,\u001b[49m\n\u001b[1;32m     13\u001b[0m \u001b[43m                \u001b[49m\u001b[38;5;124;43m\"\u001b[39;49m\u001b[38;5;124;43mpk_val2\u001b[39;49m\u001b[38;5;124;43m\"\u001b[39;49m\u001b[43m:\u001b[49m\u001b[43m \u001b[49m\u001b[38;5;124;43m\"\u001b[39;49m\u001b[38;5;124;43m0042100026\u001b[39;49m\u001b[38;5;124;43m\"\u001b[39;49m\n\u001b[1;32m     14\u001b[0m \u001b[43m            \u001b[49m\u001b[43m}\u001b[49m\n\u001b[1;32m     15\u001b[0m \u001b[43m        \u001b[49m\u001b[43m)\u001b[49m\n",
      "File \u001b[0;32m~/miniconda3/envs/bb_bricker/lib/python3.12/site-packages/kuzu/connection.py:134\u001b[0m, in \u001b[0;36mConnection.execute\u001b[0;34m(self, query, parameters)\u001b[0m\n\u001b[1;32m    132\u001b[0m \u001b[38;5;28;01melse\u001b[39;00m:\n\u001b[1;32m    133\u001b[0m     prepared_statement \u001b[38;5;241m=\u001b[39m \u001b[38;5;28mself\u001b[39m\u001b[38;5;241m.\u001b[39mprepare(query) \u001b[38;5;28;01mif\u001b[39;00m \u001b[38;5;28misinstance\u001b[39m(query, \u001b[38;5;28mstr\u001b[39m) \u001b[38;5;28;01melse\u001b[39;00m query\n\u001b[0;32m--> 134\u001b[0m     _query_result \u001b[38;5;241m=\u001b[39m \u001b[38;5;28;43mself\u001b[39;49m\u001b[38;5;241;43m.\u001b[39;49m\u001b[43m_connection\u001b[49m\u001b[38;5;241;43m.\u001b[39;49m\u001b[43mexecute\u001b[49m\u001b[43m(\u001b[49m\u001b[43mprepared_statement\u001b[49m\u001b[38;5;241;43m.\u001b[39;49m\u001b[43m_prepared_statement\u001b[49m\u001b[43m,\u001b[49m\u001b[43m \u001b[49m\u001b[43mparameters\u001b[49m\u001b[43m)\u001b[49m\n\u001b[1;32m    135\u001b[0m \u001b[38;5;28;01mif\u001b[39;00m \u001b[38;5;129;01mnot\u001b[39;00m _query_result\u001b[38;5;241m.\u001b[39misSuccess():\n\u001b[1;32m    136\u001b[0m     \u001b[38;5;28;01mraise\u001b[39;00m \u001b[38;5;167;01mRuntimeError\u001b[39;00m(_query_result\u001b[38;5;241m.\u001b[39mgetErrorMessage())\n",
      "\u001b[0;31mRuntimeError\u001b[0m: Parser exception: Invalid input <MATCH (e1:$>: expected rule oC_SingleQuery (line: 2, offset: 22)\n\"            WHERE e1.$pk_col1 = $pk_val1 AND e2.$pk_col2 = $pk_val2\"\n                       ^"
     ]
    }
   ],
   "source": [
    "\n",
    "\n",
    "conn.execute(\n",
    "            \"\"\"\n",
    "            MATCH (e1:$entity1), (e2:$entity2)\n",
    "            WHERE e1.$pk_col1 = $pk_val1 AND e2.$pk_col2 = $pk_val2\n",
    "            CREATE (e1)-[:OwnedBy]->(e2);\n",
    "            \"\"\",\n",
    "            parameters={\n",
    "                \"entity1\": \"PECOSEnrolledCareProvider\", \n",
    "                \"entity2\": \"Person\",\n",
    "                \"pk_col1\": \"associate_id\",\n",
    "                \"pk_col2\": \"associate_id\",\n",
    "                \"pk_val1\": \"0042301640\",\n",
    "                \"pk_val2\": \"0042100026\"\n",
    "            }\n",
    "        )\n"
   ]
  },
  {
   "cell_type": "code",
   "execution_count": 38,
   "metadata": {},
   "outputs": [
    {
     "data": {
      "text/plain": [
       "False"
      ]
     },
     "execution_count": 38,
     "metadata": {},
     "output_type": "execute_result"
    }
   ],
   "source": [
    "res= conn.execute(\n",
    "            \"\"\"\n",
    "            MATCH (e1:PECOSEnrolledCareProvider), (e2:Person)\n",
    "            WHERE e1.associate_id = $pk_val1 AND e2.associate_id = $pk_val2\n",
    "            CREATE (e1)-[:OwnedBy]->(e2);\n",
    "            \"\"\",\n",
    "            parameters={\n",
    "                \"pk_val1\": \"0042301640\",\n",
    "                \"pk_val2\": \"0042100026\"\n",
    "            }\n",
    "        )"
   ]
  },
  {
   "cell_type": "code",
   "execution_count": null,
   "metadata": {},
   "outputs": [],
   "source": []
  }
 ],
 "metadata": {
  "kernelspec": {
   "display_name": "bb_bricker",
   "language": "python",
   "name": "python3"
  },
  "language_info": {
   "codemirror_mode": {
    "name": "ipython",
    "version": 3
   },
   "file_extension": ".py",
   "mimetype": "text/x-python",
   "name": "python",
   "nbconvert_exporter": "python",
   "pygments_lexer": "ipython3",
   "version": "3.12.3"
  }
 },
 "nbformat": 4,
 "nbformat_minor": 2
}
