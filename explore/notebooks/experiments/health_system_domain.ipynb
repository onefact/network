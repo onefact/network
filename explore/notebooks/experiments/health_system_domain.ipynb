{
 "cells": [
  {
   "cell_type": "markdown",
   "metadata": {},
   "source": [
    "# Purpose\n",
    "Iterate through list of hospital enroments and attempt extract top level hospital domain."
   ]
  },
  {
   "cell_type": "code",
   "execution_count": 2,
   "metadata": {},
   "outputs": [
    {
     "data": {
      "text/plain": [
       "'/home/dr00b/code/network'"
      ]
     },
     "execution_count": 2,
     "metadata": {},
     "output_type": "execute_result"
    }
   ],
   "source": [
    "import os\n",
    "os.chdir(\"..\")\n",
    "os.chdir(\"..\")\n",
    "os.getcwd()"
   ]
  },
  {
   "cell_type": "code",
   "execution_count": 3,
   "metadata": {},
   "outputs": [
    {
     "name": "stdout",
     "output_type": "stream",
     "text": [
      "The sql extension is already loaded. To reload it, use:\n",
      "  %reload_ext sql\n"
     ]
    },
    {
     "data": {
      "text/html": [
       "<span style=\"None\">Connecting to &#x27;sqlite:///data/raw/cms_data_api_raw.db&#x27;</span>"
      ],
      "text/plain": [
       "Connecting to 'sqlite:///data/raw/cms_data_api_raw.db'"
      ]
     },
     "metadata": {},
     "output_type": "display_data"
    }
   ],
   "source": [
    "%load_ext sql\n",
    "%sql sqlite:///data/raw/cms_data_api_raw.db\n",
    "%config SqlMagic.displaylimit = 100"
   ]
  },
  {
   "cell_type": "code",
   "execution_count": 4,
   "metadata": {},
   "outputs": [],
   "source": [
    "# extract table definitions from database to a file, write to data/schema/tables.sql\n",
    "!sqlite3 data/raw/cms_data_api_raw.db .schema > data/schema/tables.sql"
   ]
  },
  {
   "cell_type": "code",
   "execution_count": 7,
   "metadata": {},
   "outputs": [
    {
     "data": {
      "text/html": [
       "<span style=\"None\">Running query in &#x27;sqlite:///data/raw/cms_data_api_raw.db&#x27;</span>"
      ],
      "text/plain": [
       "Running query in 'sqlite:///data/raw/cms_data_api_raw.db'"
      ]
     },
     "metadata": {},
     "output_type": "display_data"
    },
    {
     "data": {
      "text/html": [
       "<span style=\"None\">Running query in &#x27;sqlite:///data/raw/cms_data_api_raw.db&#x27;</span>"
      ],
      "text/plain": [
       "Running query in 'sqlite:///data/raw/cms_data_api_raw.db'"
      ]
     },
     "metadata": {},
     "output_type": "display_data"
    }
   ],
   "source": [
    "# read all hospital enrollments to a pandas dataframe\n",
    "import pandas as pd\n",
    "hospital_enrollments = %sql SELECT * FROM hospital_enrollments\n",
    "hospital_ownership = %sql SELECT * FROM hospital_all_owners"
   ]
  },
  {
   "cell_type": "code",
   "execution_count": null,
   "metadata": {},
   "outputs": [],
   "source": [
    "# create a python data calss for each hospital enrollment "
   ]
  }
 ],
 "metadata": {
  "kernelspec": {
   "display_name": "bb_bricker",
   "language": "python",
   "name": "python3"
  },
  "language_info": {
   "codemirror_mode": {
    "name": "ipython",
    "version": 3
   },
   "file_extension": ".py",
   "mimetype": "text/x-python",
   "name": "python",
   "nbconvert_exporter": "python",
   "pygments_lexer": "ipython3",
   "version": "3.12.3"
  }
 },
 "nbformat": 4,
 "nbformat_minor": 2
}
