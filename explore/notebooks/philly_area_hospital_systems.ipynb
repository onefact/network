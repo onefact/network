{
 "cells": [
  {
   "cell_type": "markdown",
   "metadata": {},
   "source": [
    "# Purpose\n",
    "Identify data gaps in the ownership data.\n",
    "\n",
    "## Overview\n",
    "Review linkages which are apparent in the ownership dataset for:\n",
    "- Main Line Health\n",
    "- Jefferson Health\n",
    "- Penn Medicine\n",
    "\n",
    "## Key Questions\n",
    "### Are the `associate_id` drawing a link to effectively characterize the \"health system\"?\n",
    "\n"
   ]
  },
  {
   "cell_type": "code",
   "execution_count": 1,
   "metadata": {},
   "outputs": [
    {
     "data": {
      "text/plain": [
       "'/home/dr00b/code/slothful_sleuth'"
      ]
     },
     "execution_count": 1,
     "metadata": {},
     "output_type": "execute_result"
    }
   ],
   "source": [
    "import os\n",
    "os.chdir(\"..\")\n",
    "os.chdir(\"..\")\n",
    "os.getcwd()"
   ]
  },
  {
   "cell_type": "code",
   "execution_count": 2,
   "metadata": {},
   "outputs": [],
   "source": [
    "%load_ext sql"
   ]
  },
  {
   "cell_type": "code",
   "execution_count": 30,
   "metadata": {},
   "outputs": [],
   "source": [
    "%sql sqlite:///data/raw/cms_data_api_raw.db\n",
    "%config SqlMagic.displaylimit = 100"
   ]
  },
  {
   "cell_type": "markdown",
   "metadata": {},
   "source": []
  },
  {
   "cell_type": "code",
   "execution_count": 33,
   "metadata": {
    "vscode": {
     "languageId": "sql"
    }
   },
   "outputs": [
    {
     "data": {
      "text/html": [
       "<span style=\"None\">Running query in &#x27;sqlite:///data/raw/cms_data_api_raw.db&#x27;</span>"
      ],
      "text/plain": [
       "Running query in 'sqlite:///data/raw/cms_data_api_raw.db'"
      ]
     },
     "metadata": {},
     "output_type": "display_data"
    },
    {
     "data": {
      "text/html": [
       "<table>\n",
       "    <thead>\n",
       "        <tr>\n",
       "            <th>COUNT(1)</th>\n",
       "        </tr>\n",
       "    </thead>\n",
       "    <tbody>\n",
       "        <tr>\n",
       "            <td>1000</td>\n",
       "        </tr>\n",
       "    </tbody>\n",
       "</table>"
      ],
      "text/plain": [
       "+----------+\n",
       "| COUNT(1) |\n",
       "+----------+\n",
       "|   1000   |\n",
       "+----------+"
      ]
     },
     "execution_count": 33,
     "metadata": {},
     "output_type": "execute_result"
    }
   ],
   "source": [
    "\n",
    "%%sql\n",
    "SELECT COUNT(1) FROM hospital_enrollments e\n",
    "\n",
    "-- SELECT * FROM hospital_enrollments e\n",
    "-- WHERE e.`STATE` = 'PA'\n",
    "-- ORDER BY e.`ORGANIZATION NAME` ASC\n",
    "\n",
    "--AND e.`ORGANIZATION NAME` = 'MAIN LINE HOSPITALS, INC.'\n",
    "\n",
    "-- INNER JOIN hospital_all_owners o\n",
    "-- ON e.`ENROLLMENT ID`  = o.`ENROLLMENT ID`\n",
    "-- AND e.`STATE` = 'PA'\n",
    "--AND e.STATE = 'PA'-- AND e.`ORGANIZATION NAME` LIKE '%MAIN LINE%' \n"
   ]
  },
  {
   "cell_type": "code",
   "execution_count": null,
   "metadata": {},
   "outputs": [],
   "source": []
  }
 ],
 "metadata": {
  "kernelspec": {
   "display_name": "slothful-sleuth",
   "language": "python",
   "name": "python3"
  },
  "language_info": {
   "codemirror_mode": {
    "name": "ipython",
    "version": 3
   },
   "file_extension": ".py",
   "mimetype": "text/x-python",
   "name": "python",
   "nbconvert_exporter": "python",
   "pygments_lexer": "ipython3",
   "version": "3.12.3"
  }
 },
 "nbformat": 4,
 "nbformat_minor": 2
}
