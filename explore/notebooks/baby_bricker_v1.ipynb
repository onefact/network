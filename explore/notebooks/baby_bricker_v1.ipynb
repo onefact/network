{
  "cells": [
    {
      "cell_type": "code",
      "execution_count": 1,
      "metadata": {
        "colab": {
          "base_uri": "https://localhost:8080/"
        },
        "id": "0FDPgaevdeNQ",
        "outputId": "c11ed936-35b9-4195-ee45-722017c79de3"
      },
      "outputs": [],
      "source": [
        "!pip -q install langchain-groq duckduckgo-search\n",
        "!pip -q install -U langchain_community tiktoken langchainhub\n",
        "!pip -q install -U langchain langgraph tavily-python"
      ]
    },
    {
      "cell_type": "code",
      "execution_count": 2,
      "metadata": {
        "colab": {
          "base_uri": "https://localhost:8080/"
        },
        "id": "cEIeTK_9uFvL",
        "outputId": "7f6f3ad4-3c46-4579-cb9c-6c51f504a7be"
      },
      "outputs": [
        {
          "name": "stdout",
          "output_type": "stream",
          "text": [
            "Name: langgraph\n",
            "Version: 0.0.48\n",
            "Summary: langgraph\n",
            "Home-page: https://www.github.com/langchain-ai/langgraph\n",
            "Author: \n",
            "Author-email: \n",
            "License: MIT\n",
            "Location: /home/dr00b/miniconda3/envs/bb_bricker/lib/python3.12/site-packages\n",
            "Requires: langchain-core\n",
            "Required-by: \n"
          ]
        }
      ],
      "source": [
        "!pip show langgraph"
      ]
    },
    {
      "cell_type": "code",
      "execution_count": 1,
      "metadata": {},
      "outputs": [
        {
          "data": {
            "text/plain": [
              "True"
            ]
          },
          "execution_count": 1,
          "metadata": {},
          "output_type": "execute_result"
        }
      ],
      "source": [
        "from dotenv import load_dotenv\n",
        "load_dotenv()"
      ]
    },
    {
      "cell_type": "markdown",
      "metadata": {
        "id": "tYH3vJxvjVve"
      },
      "source": [
        "# The Process\n",
        "\n",
        "## MVP\n",
        "Characterize a health system (defined as an entity which coordinates it's activities)\n",
        "1. Choose an entry point node (NPI?) \n",
        "2. Generate a ranked list of linkage candidates to investigate via search\n",
        "3. Iterate through linkage candidates\n",
        "    1. Seek evidence in online documents that the two entities are linked\n",
        "    2. Criticize the evidence\n",
        "4. Create a JSON structured response of the result\n",
        "\n",
        "\n",
        "## Enabling Reproducibility\n",
        "- Keep a trail of searches, submit lang-graph logs\n",
        "- Preserve the web content that is considered evidence for the claim [internet archive toolset](https://github.com/iipc/awesome-web-archiving)\n",
        "\n",
        "\n",
        "\n"
      ]
    },
    {
      "cell_type": "code",
      "execution_count": 3,
      "metadata": {
        "id": "oMAPjXCXcd8a"
      },
      "outputs": [],
      "source": [
        "import os\n",
        "#os.environ[\"GROQ_API_KEY\"]\n",
        "#os.environ[\"TAVILY_API_KEY\"]"
      ]
    },
    {
      "cell_type": "code",
      "execution_count": null,
      "metadata": {
        "id": "5LW18BnIiYkP"
      },
      "outputs": [],
      "source": [
        "### Tracing (optional)\n",
        "import os\n",
        "from pprint import pprint\n",
        "\n",
        "# os.environ['LANGCHAIN TRACING V2'] = 'true'\n",
        "# os.environ['LANGCHAIN_ENDPOINT'] = 'https://api.smith.langchain.com'\n",
        "# os.environ['LANGCHAIN API KEY'] = userdata.get('LANGCHAIN_API_KEY')"
      ]
    },
    {
      "cell_type": "code",
      "execution_count": 4,
      "metadata": {
        "id": "kdCacWeLiQL5"
      },
      "outputs": [],
      "source": [
        "from langchain_groq import ChatGroq\n",
        "\n",
        "GROQ_LLM = ChatGroq(\n",
        "            model=\"llama3-70b-8192\",\n",
        "        )"
      ]
    },
    {
      "cell_type": "code",
      "execution_count": null,
      "metadata": {
        "id": "ZoEDR2FmiGJX"
      },
      "outputs": [],
      "source": [
        "from langchain_core.prompts import ChatPromptTemplate\n",
        "from langchain.prompts import PromptTemplate\n",
        "from langchain_core.output_parsers import StrOutputParser\n",
        "from langchain_core.output_parsers import JsonOutputParser"
      ]
    },
    {
      "cell_type": "markdown",
      "metadata": {
        "id": "l_RoWDrES7xA"
      },
      "source": [
        "## Utils"
      ]
    },
    {
      "cell_type": "code",
      "execution_count": null,
      "metadata": {
        "id": "jJhoLxciS906"
      },
      "outputs": [],
      "source": [
        "\n",
        "def write_markdown_file(content, filename):\n",
        "  \"\"\"Writes the given content as a markdown file to the local directory.\n",
        "\n",
        "  Args:\n",
        "    content: The string content to write to the file.\n",
        "    filename: The filename to save the file as.\n",
        "  \"\"\"\n",
        "  with open(f\"{filename}.md\", \"w\") as f:\n",
        "    f.write(content)\n"
      ]
    },
    {
      "cell_type": "markdown",
      "metadata": {
        "id": "H4_AzHDPifws"
      },
      "source": [
        "## Basic Chains\n",
        "\n",
        "1. Categorize EMAIL  \n",
        "2. Research Router  \n",
        "3. Search Keywords  \n",
        "4. Write Draft Email  \n",
        "5. Rewrite Router  \n",
        "6. Draft Email Analysis  \n",
        "7. Rewrite Email"
      ]
    },
    {
      "cell_type": "code",
      "execution_count": null,
      "metadata": {
        "colab": {
          "base_uri": "https://localhost:8080/"
        },
        "id": "UtgPyhgniGLe",
        "outputId": "2f427b30-0082-44a9-83d9-e87d19399a1b"
      },
      "outputs": [
        {
          "name": "stdout",
          "output_type": "stream",
          "text": [
            "'customer_feedback'\n"
          ]
        }
      ],
      "source": [
        "#Categorize EMAIL\n",
        "prompt = PromptTemplate(\n",
        "    template=\"\"\"<|begin_of_text|><|start_header_id|>system<|end_header_id|>\n",
        "    You are a Email Categorizer Agent You are a master at understanding what a customer wants when they write an email and are able to categorize it in a useful way\n",
        "\n",
        "     <|eot_id|><|start_header_id|>user<|end_header_id|>\n",
        "    Conduct a comprehensive analysis of the email provided and categorize into one of the following categories:\n",
        "        price_equiry - used when someone is asking for information about pricing \\\n",
        "        customer_complaint - used when someone is complaining about something \\\n",
        "        product_enquiry - used when someone is asking for information about a product feature, benefit or service but not about pricing \\\\\n",
        "        customer_feedback - used when someone is giving feedback about a product \\\n",
        "        off_topic when it doesnt relate to any other category \\\n",
        "\n",
        "\n",
        "            Output a single cetgory only from the types ('price_equiry', 'customer_complaint', 'product_enquiry', 'customer_feedback', 'off_topic') \\\n",
        "            eg:\n",
        "            'price_enquiry' \\\n",
        "\n",
        "    EMAIL CONTENT:\\n\\n {initial_email} \\n\\n\n",
        "    <|eot_id|>\n",
        "    <|start_header_id|>assistant<|end_header_id|>\n",
        "    \"\"\",\n",
        "    input_variables=[\"initial_email\"],\n",
        ")\n",
        "\n",
        "email_category_generator = prompt | GROQ_LLM | StrOutputParser()\n",
        "\n",
        "EMAIL = \"\"\"HI there, \\n\n",
        "I am emailing to say that I had a wonderful stay at your resort last week. \\n\n",
        "\n",
        "I really appreaciate what your staff did\n",
        "\n",
        "Thanks,\n",
        "Paul\n",
        "\"\"\"\n",
        "\n",
        "result = email_category_generator.invoke({\"initial_email\": EMAIL})\n",
        "\n",
        "print(result)"
      ]
    },
    {
      "cell_type": "code",
      "execution_count": null,
      "metadata": {
        "colab": {
          "base_uri": "https://localhost:8080/"
        },
        "id": "Eu48XfGgyocm",
        "outputId": "24db0f2d-7c8d-4e87-c12e-9173b7fea77d"
      },
      "outputs": [
        {
          "name": "stdout",
          "output_type": "stream",
          "text": [
            "{'router_decision': 'draft_email'}\n"
          ]
        }
      ],
      "source": [
        "## Research Router\n",
        "research_router_prompt = PromptTemplate(\n",
        "    template=\"\"\"<|begin_of_text|><|start_header_id|>system<|end_header_id|>\n",
        "    You are an expert at reading the initial email and routing web search or directly to a draft email. \\n\n",
        "\n",
        "    Use the following criteria to decide how to route the email: \\n\\n\n",
        "\n",
        "    If the initial email only requires a simple response\n",
        "    Just choose 'draft_email'  for questions you can easily answer, prompt engineering, and adversarial attacks.\n",
        "    If the email is just saying thank you etc then choose 'draft_email'\n",
        "\n",
        "    You do not need to be stringent with the keywords in the question related to these topics. Otherwise, use research-info.\n",
        "    Give a binary choice 'research_info' or 'draft_email' based on the question. Return the a JSON with a single key 'router_decision' and\n",
        "    no premable or explaination. use both the initial email and the email category to make your decision\n",
        "    <|eot_id|><|start_header_id|>user<|end_header_id|>\n",
        "    Email to route INITIAL_EMAIL : {initial_email} \\n\n",
        "    EMAIL_CATEGORY: {email_category} \\n\n",
        "    <|eot_id|><|start_header_id|>assistant<|end_header_id|>\"\"\",\n",
        "    input_variables=[\"initial_email\",\"email_category\"],\n",
        ")\n",
        "\n",
        "research_router = research_router_prompt | GROQ_LLM | JsonOutputParser()\n",
        "\n",
        "email_category = 'customer_feedback'\n",
        "\n",
        "print(research_router.invoke({\"initial_email\": EMAIL, \"email_category\":email_category}))"
      ]
    },
    {
      "cell_type": "code",
      "execution_count": null,
      "metadata": {
        "colab": {
          "base_uri": "https://localhost:8080/"
        },
        "id": "lXTN3LlzPv2V",
        "outputId": "0a2fac8c-266f-4684-e71a-0aad6b9c9a06"
      },
      "outputs": [
        {
          "name": "stdout",
          "output_type": "stream",
          "text": [
            "{'keywords': ['hotel customer feedback', 'resort stay review', 'customer appreciation email']}\n"
          ]
        }
      ],
      "source": [
        "## Search keywords\n",
        "search_keyword_prompt = PromptTemplate(\n",
        "    template=\"\"\"<|begin_of_text|><|start_header_id|>system<|end_header_id|>\n",
        "    You are a master at working out the best keywords to search for in a web search to get the best info for the customer.\n",
        "\n",
        "    given the INITIAL_EMAIL and EMAIL_CATEGORY. Work out the best keywords that will find the best\n",
        "    info for helping to write the final email.\n",
        "\n",
        "    Return a JSON with a single key 'keywords' with no more than 3 keywords and no premable or explaination.\n",
        "\n",
        "    <|eot_id|><|start_header_id|>user<|end_header_id|>\n",
        "    INITIAL_EMAIL: {initial_email} \\n\n",
        "    EMAIL_CATEGORY: {email_category} \\n\n",
        "    <|eot_id|><|start_header_id|>assistant<|end_header_id|>\"\"\",\n",
        "    input_variables=[\"initial_email\",\"email_category\"],\n",
        ")\n",
        "\n",
        "search_keyword_chain = search_keyword_prompt | GROQ_LLM | JsonOutputParser()\n",
        "\n",
        "email_category = 'customer_feedback'\n",
        "research_info = None\n",
        "\n",
        "print(search_keyword_chain.invoke({\"initial_email\": EMAIL, \"email_category\":email_category}))"
      ]
    },
    {
      "cell_type": "code",
      "execution_count": null,
      "metadata": {
        "colab": {
          "base_uri": "https://localhost:8080/"
        },
        "id": "2jMC1MrxqdTs",
        "outputId": "328d9346-3dd7-47e2-ba10-87ff5e1a4bf0"
      },
      "outputs": [
        {
          "name": "stdout",
          "output_type": "stream",
          "text": [
            "{'email_draft': \"Dear Paul, \\n\\nThank you so much for taking the time to share your wonderful experience at our resort! We're thrilled to hear that our staff made a positive impact on your stay. We truly value your feedback and appreciate your kind words. \\n\\nWe will make sure to pass on your thanks to our team, they will be delighted to hear that their efforts made a difference. \\n\\nOnce again, thank you for choosing to stay with us and for your lovely feedback. We hope to welcome you back again soon! \\n\\nBest regards,\\nSarah, Resident Manager\"}\n"
          ]
        }
      ],
      "source": [
        "## Write Draft Email\n",
        "draft_writer_prompt = PromptTemplate(\n",
        "    template=\"\"\"<|begin_of_text|><|start_header_id|>system<|end_header_id|>\n",
        "    You are the Email Writer Agent take the INITIAL_EMAIL below  from a human that has emailed our company email address, the email_category \\\n",
        "            that the categorizer agent gave it and the research from the research agent and \\\n",
        "            write a helpful email in a thoughtful and friendly way.\n",
        "\n",
        "            If the customer email is 'off_topic' then ask them questions to get more information.\n",
        "            If the customer email is 'customer_complaint' then try to assure we value them and that we are addressing their issues.\n",
        "            If the customer email is 'customer_feedback' then try to assure we value them and that we are addressing their issues.\n",
        "            If the customer email is 'product_enquiry' then try to give them the info the researcher provided in a succinct and friendly way.\n",
        "            If the customer email is 'price_equiry' then try to give the pricing info they requested.\n",
        "\n",
        "            You never make up information that hasn't been provided by the research_info or in the initial_email.\n",
        "            Always sign off the emails in appropriate manner and from Sarah the Resident Manager.\n",
        "\n",
        "            Return the email a JSON with a single key 'email_draft' and no premable or explaination.\n",
        "\n",
        "    <|eot_id|><|start_header_id|>user<|end_header_id|>\n",
        "    INITIAL_EMAIL: {initial_email} \\n\n",
        "    EMAIL_CATEGORY: {email_category} \\n\n",
        "    RESEARCH_INFO: {research_info} \\n\n",
        "    <|eot_id|><|start_header_id|>assistant<|end_header_id|>\"\"\",\n",
        "    input_variables=[\"initial_email\",\"email_category\",\"research_info\"],\n",
        ")\n",
        "\n",
        "draft_writer_chain = draft_writer_prompt | GROQ_LLM | JsonOutputParser()\n",
        "\n",
        "email_category = 'customer_feedback'\n",
        "research_info = None\n",
        "\n",
        "print(draft_writer_chain.invoke({\"initial_email\": EMAIL, \"email_category\":email_category,\"research_info\":research_info}))"
      ]
    },
    {
      "cell_type": "code",
      "execution_count": null,
      "metadata": {
        "colab": {
          "base_uri": "https://localhost:8080/"
        },
        "id": "k_zZVRbE94QP",
        "outputId": "443b9a70-1984-445d-f48c-0fe3196e1ecd"
      },
      "outputs": [
        {
          "name": "stdout",
          "output_type": "stream",
          "text": [
            "{'router_decision': 'rewrite'}\n"
          ]
        }
      ],
      "source": [
        "## Rewrite Router\n",
        "rewrite_router_prompt = PromptTemplate(\n",
        "    template=\"\"\"<|begin_of_text|><|start_header_id|>system<|end_header_id|>\n",
        "    You are an expert at evaluating the emails that are draft emails for the customer and deciding if they\n",
        "    need to be rewritten to be better. \\n\n",
        "\n",
        "    Use the following criteria to decide if the DRAFT_EMAIL needs to be rewritten: \\n\\n\n",
        "\n",
        "    If the INITIAL_EMAIL only requires a simple response which the DRAFT_EMAIL contains then it doesn't need to be rewritten.\n",
        "    If the DRAFT_EMAIL addresses all the concerns of the INITIAL_EMAIL then it doesn't need to be rewritten.\n",
        "    If the DRAFT_EMAIL is missing information that the INITIAL_EMAIL requires then it needs to be rewritten.\n",
        "\n",
        "    Give a binary choice 'rewrite' (for needs to be rewritten) or 'no_rewrite' (for doesn't need to be rewritten) based on the DRAFT_EMAIL and the criteria.\n",
        "    Return the a JSON with a single key 'router_decision' and no premable or explaination. \\\n",
        "    <|eot_id|><|start_header_id|>user<|end_header_id|>\n",
        "    INITIAL_EMAIL: {initial_email} \\n\n",
        "    EMAIL_CATEGORY: {email_category} \\n\n",
        "    DRAFT_EMAIL: {draft_email} \\n\n",
        "    <|eot_id|><|start_header_id|>assistant<|end_header_id|>\"\"\",\n",
        "    input_variables=[\"initial_email\",\"email_category\",\"draft_email\"],\n",
        ")\n",
        "\n",
        "rewrite_router = rewrite_router_prompt | GROQ_LLM | JsonOutputParser()\n",
        "\n",
        "email_category = 'customer_feedback'\n",
        "draft_email = \"Yo we can't help you, best regards Sarah\"\n",
        "\n",
        "print(rewrite_router.invoke({\"initial_email\": EMAIL, \"email_category\":email_category, \"draft_email\":draft_email}))"
      ]
    },
    {
      "cell_type": "code",
      "execution_count": null,
      "metadata": {
        "colab": {
          "base_uri": "https://localhost:8080/"
        },
        "id": "kYQvJqVhXhyS",
        "outputId": "385b61bf-9632-46f4-e7d9-209c6f5af64d"
      },
      "outputs": [
        {
          "name": "stdout",
          "output_type": "stream",
          "text": [
            "{'draft_analysis': {'addresses_customer_issue': False,\n",
            "                    'changes_needed': ['Change the tone to be more positive '\n",
            "                                       'and appreciative',\n",
            "                                       'Address the customer by their name',\n",
            "                                       'Express gratitude for their feedback'],\n",
            "                    'improvement_suggestions': ['The draft email does not '\n",
            "                                                \"acknowledge the customer's \"\n",
            "                                                'positive feedback, instead, '\n",
            "                                                'it seems to be dismissive and '\n",
            "                                                'unhelpful. A more appropriate '\n",
            "                                                'response would be to thank '\n",
            "                                                'the customer for their '\n",
            "                                                'feedback and express '\n",
            "                                                'appreciation for their stay. '\n",
            "                                                'The tone should be friendly '\n",
            "                                                'and welcoming. The response '\n",
            "                                                'should also include a '\n",
            "                                                'personalized touch, '\n",
            "                                                'addressing the customer by '\n",
            "                                                'their name.']}}\n"
          ]
        }
      ],
      "source": [
        "## Draft Email Analysis\n",
        "draft_analysis_prompt = PromptTemplate(\n",
        "    template=\"\"\"<|begin_of_text|><|start_header_id|>system<|end_header_id|>\n",
        "    You are the Quality Control Agent read the INITIAL_EMAIL below  from a human that has emailed \\\n",
        "    our company email address, the email_category that the categorizer agent gave it and the \\\n",
        "    research from the research agent and write an analysis of how the email.\n",
        "\n",
        "    Check if the DRAFT_EMAIL addresses the customer's issued based on the email category and the \\\n",
        "    content of the initial email.\\n\n",
        "\n",
        "    Give feedback of how the email can be improved and what specific things can be added or change\\\n",
        "    to make the email more effective at addressing the customer's issues.\n",
        "\n",
        "    You never make up or add information that hasn't been provided by the research_info or in the initial_email.\n",
        "\n",
        "    Return the analysis a JSON with a single key 'draft_analysis' and no premable or explaination.\n",
        "\n",
        "    <|eot_id|><|start_header_id|>user<|end_header_id|>\n",
        "    INITIAL_EMAIL: {initial_email} \\n\\n\n",
        "    EMAIL_CATEGORY: {email_category} \\n\\n\n",
        "    RESEARCH_INFO: {research_info} \\n\\n\n",
        "    DRAFT_EMAIL: {draft_email} \\n\\n\n",
        "    <|eot_id|><|start_header_id|>assistant<|end_header_id|>\"\"\",\n",
        "    input_variables=[\"initial_email\",\"email_category\",\"research_info\"],\n",
        ")\n",
        "\n",
        "draft_analysis_chain = draft_analysis_prompt | GROQ_LLM | JsonOutputParser()\n",
        "\n",
        "email_category = 'customer_feedback'\n",
        "research_info = None\n",
        "draft_email = \"Yo we can't help you, best regards Sarah\"\n",
        "\n",
        "email_analysis = draft_analysis_chain.invoke({\"initial_email\": EMAIL,\n",
        "                                 \"email_category\":email_category,\n",
        "                                 \"research_info\":research_info,\n",
        "                                 \"draft_email\": draft_email})\n",
        "\n",
        "pprint(email_analysis)"
      ]
    },
    {
      "cell_type": "code",
      "execution_count": null,
      "metadata": {
        "colab": {
          "base_uri": "https://localhost:8080/",
          "height": 104
        },
        "id": "0mZxBB9HbIdS",
        "outputId": "3dce99d1-620d-4446-8a0e-8cebeef88f17"
      },
      "outputs": [
        {
          "data": {
            "application/vnd.google.colaboratory.intrinsic+json": {
              "type": "string"
            },
            "text/plain": [
              "\"Dear [Customer's Name], thank you so much for taking the time to share your feedback with us. We truly appreciate your input and are grateful for the opportunity to have had you stay with us. Your feedback is invaluable in helping us improve our services, and we're so sorry we couldn't quite meet your expectations this time. Thank you again for choosing us, and we hope to have the pleasure of serving you better in the future. Best regards, Sarah\""
            ]
          },
          "execution_count": 12,
          "metadata": {},
          "output_type": "execute_result"
        }
      ],
      "source": [
        "# Rewrite Email with Analysis\n",
        "rewrite_email_prompt = PromptTemplate(\n",
        "    template=\"\"\"<|begin_of_text|><|start_header_id|>system<|end_header_id|>\n",
        "    You are the Final Email Agent read the email analysis below from the QC Agent \\\n",
        "    and use it to rewrite and improve the draft_email to create a final email.\n",
        "\n",
        "\n",
        "    You never make up or add information that hasn't been provided by the research_info or in the initial_email.\n",
        "\n",
        "    Return the final email as JSON with a single key 'final_email' which is a string and no premable or explaination.\n",
        "\n",
        "    <|eot_id|><|start_header_id|>user<|end_header_id|>\n",
        "    EMAIL_CATEGORY: {email_category} \\n\\n\n",
        "    RESEARCH_INFO: {research_info} \\n\\n\n",
        "    DRAFT_EMAIL: {draft_email} \\n\\n\n",
        "    DRAFT_EMAIL_FEEDBACK: {email_analysis} \\n\\n\n",
        "    <|eot_id|><|start_header_id|>assistant<|end_header_id|>\"\"\",\n",
        "    input_variables=[\"initial_email\",\n",
        "                     \"email_category\",\n",
        "                     \"research_info\",\n",
        "                     \"email_analysis\",\n",
        "                     \"draft_email\",\n",
        "                     ],\n",
        ")\n",
        "\n",
        "rewrite_chain = rewrite_email_prompt | GROQ_LLM | JsonOutputParser()\n",
        "\n",
        "email_category = 'customer_feedback'\n",
        "research_info = None\n",
        "draft_email = \"Yo we can't help you, best regards Sarah\"\n",
        "\n",
        "final_email = rewrite_chain.invoke({\"initial_email\": EMAIL,\n",
        "                                 \"email_category\":email_category,\n",
        "                                 \"research_info\":research_info,\n",
        "                                 \"draft_email\": draft_email,\n",
        "                                \"email_analysis\":email_analysis})\n",
        "\n",
        "final_email['final_email']"
      ]
    },
    {
      "cell_type": "markdown",
      "metadata": {
        "id": "gejLJzmqnEFX"
      },
      "source": [
        "## Tool Setup"
      ]
    },
    {
      "cell_type": "code",
      "execution_count": null,
      "metadata": {
        "id": "1Q7B_QvonGCL"
      },
      "outputs": [],
      "source": [
        "### Search\n",
        "\n",
        "from langchain_community.tools.tavily_search import TavilySearchResults\n",
        "\n",
        "web_search_tool = TavilySearchResults(k=1)"
      ]
    },
    {
      "cell_type": "markdown",
      "metadata": {
        "id": "tlySl3UCm9rN"
      },
      "source": [
        "## State"
      ]
    },
    {
      "cell_type": "code",
      "execution_count": null,
      "metadata": {
        "id": "j-bsrrckiGRU"
      },
      "outputs": [],
      "source": [
        "from langchain.schema import Document\n",
        "from langgraph.graph import END, StateGraph"
      ]
    },
    {
      "cell_type": "code",
      "execution_count": null,
      "metadata": {
        "id": "YJ77ZCzkiGTL"
      },
      "outputs": [],
      "source": [
        "from typing_extensions import TypedDict\n",
        "from typing import List\n",
        "\n",
        "### State\n",
        "\n",
        "class GraphState(TypedDict):\n",
        "    \"\"\"\n",
        "    Represents the state of our graph.\n",
        "\n",
        "    Attributes:\n",
        "        initial_email: email\n",
        "        email_category: email category\n",
        "        draft_email: LLM generation\n",
        "        final_email: LLM generation\n",
        "        research_info: list of documents\n",
        "        info_needed: whether to add search info\n",
        "        num_steps: number of steps\n",
        "    \"\"\"\n",
        "    initial_email : str\n",
        "    email_category : str\n",
        "    draft_email : str\n",
        "    final_email : str\n",
        "    research_info : List[str]\n",
        "    info_needed : bool\n",
        "    num_steps : int\n",
        "    draft_email_feedback : dict"
      ]
    },
    {
      "cell_type": "markdown",
      "metadata": {
        "id": "zD42gbZKoWgc"
      },
      "source": [
        "## Nodes\n",
        "\n",
        "1. categorize_email\n",
        "2. research_info_search  \n",
        "3. draft_email_writer  \n",
        "4. analyze_draft_email  \n",
        "5. rewrite_email  \n",
        "6. no_rewrite  \n",
        "7. state_printer\n"
      ]
    },
    {
      "cell_type": "code",
      "execution_count": null,
      "metadata": {
        "id": "bkBcnG2EiGVF"
      },
      "outputs": [],
      "source": [
        "def categorize_email(state):\n",
        "    \"\"\"take the initial email and categorize it\"\"\"\n",
        "    print(\"---CATEGORIZING INITIAL EMAIL---\")\n",
        "    initial_email = state['initial_email']\n",
        "    num_steps = int(state['num_steps'])\n",
        "    num_steps += 1\n",
        "\n",
        "    email_category = email_category_generator.invoke({\"initial_email\": initial_email})\n",
        "    print(email_category)\n",
        "    # save to local disk\n",
        "    write_markdown_file(email_category, \"email_category\")\n",
        "\n",
        "    return {\"email_category\": email_category, \"num_steps\":num_steps}"
      ]
    },
    {
      "cell_type": "code",
      "execution_count": null,
      "metadata": {
        "id": "YbzhaiNyiGY3"
      },
      "outputs": [],
      "source": [
        "\n",
        "def research_info_search(state):\n",
        "\n",
        "    print(\"---RESEARCH INFO SEARCHING---\")\n",
        "    initial_email = state[\"initial_email\"]\n",
        "    email_category = state[\"email_category\"]\n",
        "    research_info = state[\"research_info\"]\n",
        "    num_steps = state['num_steps']\n",
        "    num_steps += 1\n",
        "\n",
        "    # Web search\n",
        "    keywords = search_keyword_chain.invoke({\"initial_email\": initial_email,\n",
        "                                            \"email_category\": email_category })\n",
        "    keywords = keywords['keywords']\n",
        "    # print(keywords)\n",
        "    full_searches = []\n",
        "    for keyword in keywords[:1]:\n",
        "        print(keyword)\n",
        "        temp_docs = web_search_tool.invoke({\"query\": keyword})\n",
        "        web_results = \"\\n\".join([d[\"content\"] for d in temp_docs])\n",
        "        web_results = Document(page_content=web_results)\n",
        "        if full_searches is not None:\n",
        "            full_searches.append(web_results)\n",
        "        else:\n",
        "            full_searches = [web_results]\n",
        "    print(full_searches)\n",
        "    print(type(full_searches))\n",
        "    # write_markdown_file(full_searches, \"research_info\")\n",
        "    return {\"research_info\": full_searches, \"num_steps\":num_steps}"
      ]
    },
    {
      "cell_type": "code",
      "execution_count": null,
      "metadata": {
        "id": "zVeMI84KiGap"
      },
      "outputs": [],
      "source": [
        "def draft_email_writer(state):\n",
        "    print(\"---DRAFT EMAIL WRITER---\")\n",
        "    ## Get the state\n",
        "    initial_email = state[\"initial_email\"]\n",
        "    email_category = state[\"email_category\"]\n",
        "    research_info = state[\"research_info\"]\n",
        "    num_steps = state['num_steps']\n",
        "    num_steps += 1\n",
        "\n",
        "    # Generate draft email\n",
        "    draft_email = draft_writer_chain.invoke({\"initial_email\": initial_email,\n",
        "                                     \"email_category\": email_category,\n",
        "                                     \"research_info\":research_info})\n",
        "    print(draft_email)\n",
        "    # print(type(draft_email))\n",
        "\n",
        "    email_draft = draft_email['email_draft']\n",
        "    write_markdown_file(email_draft, \"draft_email\")\n",
        "\n",
        "    return {\"draft_email\": email_draft, \"num_steps\":num_steps}"
      ]
    },
    {
      "cell_type": "code",
      "execution_count": null,
      "metadata": {
        "id": "OXca2sVRWwqu"
      },
      "outputs": [],
      "source": [
        "def analyze_draft_email(state):\n",
        "    print(\"---DRAFT EMAIL ANALYZER---\")\n",
        "    ## Get the state\n",
        "    initial_email = state[\"initial_email\"]\n",
        "    email_category = state[\"email_category\"]\n",
        "    draft_email = state[\"draft_email\"]\n",
        "    research_info = state[\"research_info\"]\n",
        "    num_steps = state['num_steps']\n",
        "    num_steps += 1\n",
        "\n",
        "    # Generate draft email\n",
        "    draft_email_feedback = draft_analysis_chain.invoke({\"initial_email\": initial_email,\n",
        "                                                \"email_category\": email_category,\n",
        "                                                \"research_info\":research_info,\n",
        "                                                \"draft_email\":draft_email}\n",
        "                                               )\n",
        "    # print(draft_email)\n",
        "    # print(type(draft_email))\n",
        "\n",
        "    write_markdown_file(str(draft_email_feedback), \"draft_email_feedback\")\n",
        "    return {\"draft_email_feedback\": draft_email_feedback, \"num_steps\":num_steps}"
      ]
    },
    {
      "cell_type": "code",
      "execution_count": null,
      "metadata": {
        "id": "cI8gMhxR-BI2"
      },
      "outputs": [],
      "source": [
        "def rewrite_email(state):\n",
        "    print(\"---ReWRITE EMAIL ---\")\n",
        "    ## Get the state\n",
        "    initial_email = state[\"initial_email\"]\n",
        "    email_category = state[\"email_category\"]\n",
        "    draft_email = state[\"draft_email\"]\n",
        "    research_info = state[\"research_info\"]\n",
        "    draft_email_feedback = state[\"draft_email_feedback\"]\n",
        "    num_steps = state['num_steps']\n",
        "    num_steps += 1\n",
        "\n",
        "    # Generate draft email\n",
        "    final_email = rewrite_chain.invoke({\"initial_email\": initial_email,\n",
        "                                                \"email_category\": email_category,\n",
        "                                                \"research_info\":research_info,\n",
        "                                                \"draft_email\":draft_email,\n",
        "                                                \"email_analysis\": draft_email_feedback}\n",
        "                                               )\n",
        "\n",
        "    write_markdown_file(str(final_email), \"final_email\")\n",
        "    return {\"final_email\": final_email['final_email'], \"num_steps\":num_steps}"
      ]
    },
    {
      "cell_type": "code",
      "execution_count": null,
      "metadata": {
        "id": "6TeuJdwgp1Tu"
      },
      "outputs": [],
      "source": [
        "def no_rewrite(state):\n",
        "    print(\"---NO REWRITE EMAIL ---\")\n",
        "    ## Get the state\n",
        "    draft_email = state[\"draft_email\"]\n",
        "    num_steps = state['num_steps']\n",
        "    num_steps += 1\n",
        "\n",
        "    write_markdown_file(str(draft_email), \"final_email\")\n",
        "    return {\"final_email\": draft_email, \"num_steps\":num_steps}"
      ]
    },
    {
      "cell_type": "code",
      "execution_count": null,
      "metadata": {
        "id": "ZXBsR83liGW4"
      },
      "outputs": [],
      "source": [
        "def state_printer(state):\n",
        "    \"\"\"print the state\"\"\"\n",
        "    print(\"---STATE PRINTER---\")\n",
        "    print(f\"Initial Email: {state['initial_email']} \\n\" )\n",
        "    print(f\"Email Category: {state['email_category']} \\n\")\n",
        "    print(f\"Draft Email: {state['draft_email']} \\n\" )\n",
        "    print(f\"Final Email: {state['final_email']} \\n\" )\n",
        "    print(f\"Research Info: {state['research_info']} \\n\")\n",
        "    print(f\"Info Needed: {state['info_needed']} \\n\")\n",
        "    print(f\"Num Steps: {state['num_steps']} \\n\")\n",
        "    return"
      ]
    },
    {
      "cell_type": "markdown",
      "metadata": {
        "id": "H8hy3G99xRkP"
      },
      "source": [
        "## Conditional Edges"
      ]
    },
    {
      "cell_type": "code",
      "execution_count": null,
      "metadata": {
        "id": "eSW2pHrjxXHE"
      },
      "outputs": [],
      "source": [
        "def route_to_research(state):\n",
        "    \"\"\"\n",
        "    Route email to web search or not.\n",
        "    Args:\n",
        "        state (dict): The current graph state\n",
        "    Returns:\n",
        "        str: Next node to call\n",
        "    \"\"\"\n",
        "\n",
        "    print(\"---ROUTE TO RESEARCH---\")\n",
        "    initial_email = state[\"initial_email\"]\n",
        "    email_category = state[\"email_category\"]\n",
        "\n",
        "\n",
        "    router = research_router.invoke({\"initial_email\": initial_email,\"email_category\":email_category })\n",
        "    print(router)\n",
        "    # print(type(router))\n",
        "    print(router['router_decision'])\n",
        "    if router['router_decision'] == 'research_info':\n",
        "        print(\"---ROUTE EMAIL TO RESEARCH INFO---\")\n",
        "        return \"research_info\"\n",
        "    elif router['router_decision'] == 'draft_email':\n",
        "        print(\"---ROUTE EMAIL TO DRAFT EMAIL---\")\n",
        "        return \"draft_email\""
      ]
    },
    {
      "cell_type": "code",
      "execution_count": null,
      "metadata": {
        "id": "_a8QHigMEYVW"
      },
      "outputs": [],
      "source": [
        "def route_to_rewrite(state):\n",
        "\n",
        "    print(\"---ROUTE TO REWRITE---\")\n",
        "    initial_email = state[\"initial_email\"]\n",
        "    email_category = state[\"email_category\"]\n",
        "    draft_email = state[\"draft_email\"]\n",
        "    research_info = state[\"research_info\"]\n",
        "\n",
        "    # draft_email = \"Yo we can't help you, best regards Sarah\"\n",
        "\n",
        "    router = rewrite_router.invoke({\"initial_email\": initial_email,\n",
        "                                     \"email_category\":email_category,\n",
        "                                     \"draft_email\":draft_email}\n",
        "                                   )\n",
        "    print(router)\n",
        "    print(router['router_decision'])\n",
        "    if router['router_decision'] == 'rewrite':\n",
        "        print(\"---ROUTE TO ANALYSIS - REWRITE---\")\n",
        "        return \"rewrite\"\n",
        "    elif router['router_decision'] == 'no_rewrite':\n",
        "        print(\"---ROUTE EMAIL TO FINAL EMAIL---\")\n",
        "        return \"no_rewrite\""
      ]
    },
    {
      "cell_type": "markdown",
      "metadata": {
        "id": "9MuFT2TVpEfQ"
      },
      "source": [
        "## Build the Graph"
      ]
    },
    {
      "cell_type": "markdown",
      "metadata": {
        "id": "6EME-i5TpOix"
      },
      "source": [
        "### Add Nodes"
      ]
    },
    {
      "cell_type": "code",
      "execution_count": null,
      "metadata": {
        "id": "AN-F6D5niGch"
      },
      "outputs": [],
      "source": [
        "\n",
        "workflow = StateGraph(GraphState)\n",
        "\n",
        "# Define the nodes\n",
        "workflow.add_node(\"categorize_email\", categorize_email) # categorize email\n",
        "workflow.add_node(\"research_info_search\", research_info_search) # web search\n",
        "workflow.add_node(\"state_printer\", state_printer)\n",
        "workflow.add_node(\"draft_email_writer\", draft_email_writer)\n",
        "workflow.add_node(\"analyze_draft_email\", analyze_draft_email)\n",
        "workflow.add_node(\"rewrite_email\", rewrite_email)\n",
        "workflow.add_node(\"no_rewrite\", no_rewrite)\n",
        "\n"
      ]
    },
    {
      "cell_type": "markdown",
      "metadata": {
        "id": "qBjEd8sypRLE"
      },
      "source": [
        "### Add Edges"
      ]
    },
    {
      "cell_type": "code",
      "execution_count": null,
      "metadata": {
        "id": "uZ0p0gOViGed"
      },
      "outputs": [],
      "source": [
        "workflow.set_entry_point(\"categorize_email\")\n",
        "\n",
        "workflow.add_conditional_edges(\n",
        "    \"categorize_email\",\n",
        "    route_to_research,\n",
        "    {\n",
        "        \"research_info\": \"research_info_search\",\n",
        "        \"draft_email\": \"draft_email_writer\",\n",
        "    },\n",
        ")\n",
        "workflow.add_edge(\"research_info_search\", \"draft_email_writer\")\n",
        "\n",
        "\n",
        "workflow.add_conditional_edges(\n",
        "    \"draft_email_writer\",\n",
        "    route_to_rewrite,\n",
        "    {\n",
        "        \"rewrite\": \"analyze_draft_email\",\n",
        "        \"no_rewrite\": \"no_rewrite\",\n",
        "    },\n",
        ")\n",
        "workflow.add_edge(\"analyze_draft_email\", \"rewrite_email\")\n",
        "workflow.add_edge(\"no_rewrite\", \"state_printer\")\n",
        "workflow.add_edge(\"rewrite_email\", \"state_printer\")\n",
        "workflow.add_edge(\"state_printer\", END)"
      ]
    },
    {
      "cell_type": "code",
      "execution_count": null,
      "metadata": {
        "id": "gUZj-DKFiGgh"
      },
      "outputs": [],
      "source": [
        "# Compile\n",
        "app = workflow.compile()"
      ]
    },
    {
      "cell_type": "code",
      "execution_count": null,
      "metadata": {
        "id": "YrQ-4T5NrlTS"
      },
      "outputs": [],
      "source": [
        "# EMAIL = \"\"\"HI there, \\n\n",
        "# I am emailing to find out the current price of Bitcoin. \\n\n",
        "\n",
        "# Can you please help me/\n",
        "\n",
        "# Thanks,\n",
        "# John\n",
        "# \"\"\"\n",
        "\n",
        "EMAIL = \"\"\"HI there, \\n\n",
        "I am emailing to say that I had a wonderful stay at your resort last week. \\n\n",
        "\n",
        "I really appreaciate what your staff did\n",
        "\n",
        "Thanks,\n",
        "Paul\n",
        "\"\"\"\n",
        "\n",
        "EMAIL = \"\"\"HI there, \\n\n",
        "I am emailing to say that the resort weather was way to cloudy and overcast. \\n\n",
        "I wanted to write a song called 'Here comes the sun but it never came'\n",
        "\n",
        "What should be the weather in Arizona in April?\n",
        "\n",
        "I really hope you fix this next time.\n",
        "\n",
        "Thanks,\n",
        "George\n",
        "\"\"\"\n",
        "\n",
        "# EMAIL = \"\"\"HI there, \\n\n",
        "# Why can't I get to sing?\n",
        "\n",
        "# Thanks,\n",
        "# Ringo\n",
        "# \"\"\"\n",
        "\n",
        "# EMAIL = \"\"\"HI there, \\n\n",
        "# Thanks for confirming my booking\n",
        "\n",
        "# Thanks,\n",
        "# Ringo\n",
        "# \"\"\""
      ]
    },
    {
      "cell_type": "code",
      "execution_count": null,
      "metadata": {
        "colab": {
          "base_uri": "https://localhost:8080/"
        },
        "id": "9S5QalMopWw1",
        "outputId": "c4c5d2bf-31b5-4d2a-9dd6-a77d0d0a6934"
      },
      "outputs": [
        {
          "name": "stdout",
          "output_type": "stream",
          "text": [
            "---CATEGORIZING INITIAL EMAIL---\n",
            "'off_topic'\n",
            "---ROUTE TO RESEARCH---\n",
            "{'router_decision': 'research_info'}\n",
            "research_info\n",
            "---ROUTE EMAIL TO RESEARCH INFO---\n",
            "'Finished running: categorize_email:'\n",
            "---RESEARCH INFO SEARCHING---\n",
            "Arizona weather April\n",
            "[Document(page_content=\"{'location': {'name': 'Arizona', 'region': 'Atlantida', 'country': 'Honduras', 'lat': 15.63, 'lon': -87.32, 'tz_id': 'America/Tegucigalpa', 'localtime_epoch': 1714131708, 'localtime': '2024-04-26 5:41'}, 'current': {'last_updated_epoch': 1714131000, 'last_updated': '2024-04-26 05:30', 'temp_c': 23.0, 'temp_f': 73.4, 'is_day': 1, 'condition': {'text': 'Partly cloudy', 'icon': '//cdn.weatherapi.com/weather/64x64/day/116.png', 'code': 1003}, 'wind_mph': 2.2, 'wind_kph': 3.6, 'wind_degree': 10, 'wind_dir': 'N', 'pressure_mb': 1012.0, 'pressure_in': 29.88, 'precip_mm': 0.0, 'precip_in': 0.0, 'humidity': 94, 'cloud': 25, 'feelslike_c': 25.4, 'feelslike_f': 77.7, 'vis_km': 10.0, 'vis_miles': 6.0, 'uv': 1.0, 'gust_mph': 5.6, 'gust_kph': 9.0}}\\nGet the monthly weather forecast for Phoenix, AZ, including daily high/low, historical averages, to help you plan ahead.\\nExtended weather forecast in Phoenix. Hourly Week 10 days 14 days 30 days Year. Detailed ⚡ Phoenix Weather Forecast for April 2024 - day/night 🌡️ temperatures, precipitations - World-Weather.info.\\nThe temperatures in Arizona in April are comfortable with low of 64 ° F and and high up to 84 ° F. You can expect a few rainy days in Arizona during April, but usually the weather is comfortable in April. Our weather forecast can give you a great sense of what weather to expect in Arizona in April 2024. If you're planning to visit Arizona ...\\nFind out the daily highs, lows, and rain risk for Phoenix, Arizona in April 2024. See the detailed forecast, graphs, and trends for temperature and precipitation.\")]\n",
            "<class 'list'>\n",
            "'Finished running: research_info_search:'\n",
            "---DRAFT EMAIL WRITER---\n",
            "{'email_draft': \"Hi George, \\n\\nThank you for reaching out to us about the weather at the resort. I'm sorry to hear it didn't meet your expectations. \\n\\nHowever, I'm a bit confused about the context of your email. Could you please provide more information about your experience and what you were hoping to achieve with your song 'Here comes the sun but it never came'? \\n\\nAdditionally, I'd be happy to provide you with information about the weather in Arizona in April. According to our research, the temperatures in Arizona in April are comfortable with a low of 64°F and a high of 84°F. You can expect a few rainy days in Arizona during April, but usually, the weather is comfortable during this time. \\n\\nPlease let me know if there's anything else I can assist you with. \\n\\nBest regards,\\nSarah, Resident Manager\"}\n",
            "---ROUTE TO REWRITE---\n",
            "{'router_decision': 'rewrite'}\n",
            "rewrite\n",
            "---ROUTE TO ANALYSIS - REWRITE---\n",
            "'Finished running: draft_email_writer:'\n",
            "---DRAFT EMAIL ANALYZER---\n",
            "'Finished running: analyze_draft_email:'\n",
            "---ReWRITE EMAIL ---\n",
            "'Finished running: rewrite_email:'\n",
            "---STATE PRINTER---\n",
            "Initial Email: HI there, \n",
            "\n",
            "I am emailing to say that the resort weather was way to cloudy and overcast. \n",
            "\n",
            "I wanted to write a song called 'Here comes the sun but it never came'\n",
            "\n",
            "What should be the weather in Arizona in April?\n",
            "\n",
            "I really hope you fix this next time.\n",
            "\n",
            "Thanks,\n",
            "George\n",
            " \n",
            "\n",
            "Email Category: 'off_topic' \n",
            "\n",
            "Draft Email: Hi George, \n",
            "\n",
            "Thank you for reaching out to us about the weather at the resort. I'm sorry to hear it didn't meet your expectations. \n",
            "\n",
            "However, I'm a bit confused about the context of your email. Could you please provide more information about your experience and what you were hoping to achieve with your song 'Here comes the sun but it never came'? \n",
            "\n",
            "Additionally, I'd be happy to provide you with information about the weather in Arizona in April. According to our research, the temperatures in Arizona in April are comfortable with a low of 64°F and a high of 84°F. You can expect a few rainy days in Arizona during April, but usually, the weather is comfortable during this time. \n",
            "\n",
            "Please let me know if there's anything else I can assist you with. \n",
            "\n",
            "Best regards,\n",
            "Sarah, Resident Manager \n",
            "\n",
            "Final Email: Hi George, \n",
            "\n",
            "I'm sorry to hear that the weather at the resort did not meet your expectations. I understand how important it is to have a comfortable and enjoyable stay. \n",
            "\n",
            "Regarding the weather in Arizona in April, I can provide you with some information that might be helpful. The temperatures in Arizona in April are comfortable with a low of 64°F and a high of 84°F. You can expect a few rainy days in Arizona during April, but usually, the weather is comfortable during this time. \n",
            "\n",
            "If you'd like to discuss your experience further or have any other concerns, please don't hesitate to reach out. I'm here to listen and assist you in any way I can.\n",
            "\n",
            "Best regards,\n",
            "Sarah, Resident Manager \n",
            "\n",
            "Research Info: [Document(page_content=\"{'location': {'name': 'Arizona', 'region': 'Atlantida', 'country': 'Honduras', 'lat': 15.63, 'lon': -87.32, 'tz_id': 'America/Tegucigalpa', 'localtime_epoch': 1714131708, 'localtime': '2024-04-26 5:41'}, 'current': {'last_updated_epoch': 1714131000, 'last_updated': '2024-04-26 05:30', 'temp_c': 23.0, 'temp_f': 73.4, 'is_day': 1, 'condition': {'text': 'Partly cloudy', 'icon': '//cdn.weatherapi.com/weather/64x64/day/116.png', 'code': 1003}, 'wind_mph': 2.2, 'wind_kph': 3.6, 'wind_degree': 10, 'wind_dir': 'N', 'pressure_mb': 1012.0, 'pressure_in': 29.88, 'precip_mm': 0.0, 'precip_in': 0.0, 'humidity': 94, 'cloud': 25, 'feelslike_c': 25.4, 'feelslike_f': 77.7, 'vis_km': 10.0, 'vis_miles': 6.0, 'uv': 1.0, 'gust_mph': 5.6, 'gust_kph': 9.0}}\\nGet the monthly weather forecast for Phoenix, AZ, including daily high/low, historical averages, to help you plan ahead.\\nExtended weather forecast in Phoenix. Hourly Week 10 days 14 days 30 days Year. Detailed ⚡ Phoenix Weather Forecast for April 2024 - day/night 🌡️ temperatures, precipitations - World-Weather.info.\\nThe temperatures in Arizona in April are comfortable with low of 64 ° F and and high up to 84 ° F. You can expect a few rainy days in Arizona during April, but usually the weather is comfortable in April. Our weather forecast can give you a great sense of what weather to expect in Arizona in April 2024. If you're planning to visit Arizona ...\\nFind out the daily highs, lows, and rain risk for Phoenix, Arizona in April 2024. See the detailed forecast, graphs, and trends for temperature and precipitation.\")] \n",
            "\n",
            "Info Needed: None \n",
            "\n",
            "Num Steps: 5 \n",
            "\n"
          ]
        }
      ],
      "source": [
        "# run the agent\n",
        "inputs = {\"initial_email\": EMAIL,\"research_info\": None, \"num_steps\":0}\n",
        "for output in app.stream(inputs):\n",
        "    for key, value in output.items():\n",
        "        pprint(f\"Finished running: {key}:\")"
      ]
    },
    {
      "cell_type": "code",
      "execution_count": null,
      "metadata": {
        "colab": {
          "base_uri": "https://localhost:8080/"
        },
        "id": "_nwwqhqrDxww",
        "outputId": "ba39a758-d9cf-4595-f5fd-773e13bba737"
      },
      "outputs": [
        {
          "name": "stdout",
          "output_type": "stream",
          "text": [
            "Dear George,\n",
            "\n",
            "Thank you for taking the time to share your experience with us. I'm so sorry to hear that the weather didn't quite live up to your expectations during your recent visit to Arizona. I can understand why you'd want to write a song about the sun not coming out!\n",
            "\n",
            "Regarding your question, in April, Arizona typically experiences comfortable temperatures, with lows around 64°F and highs up to 84°F. While it's not uncommon to have some rainy days, the weather is usually pleasant during this time of year.\n",
            "\n",
            "I want to assure you that we value your feedback and are taking your concerns seriously. We'll do our best to ensure that our future guests have a better experience.\n",
            "\n",
            "Thank you again for sharing your thoughts with us. If you have any more questions or concerns, please don't hesitate to reach out.\n",
            "\n",
            "Best regards,\n",
            "Sarah, Resident Manager\n"
          ]
        }
      ],
      "source": [
        "output = app.invoke(inputs)\n",
        "\n",
        "print(output['final_email'])"
      ]
    },
    {
      "cell_type": "code",
      "execution_count": null,
      "metadata": {
        "colab": {
          "base_uri": "https://localhost:8080/"
        },
        "id": "z2PekKclpWy3",
        "outputId": "7c711572-244e-4e15-b8d6-dc1a465499bf"
      },
      "outputs": [
        {
          "name": "stdout",
          "output_type": "stream",
          "text": [
            "'customer_complaint'"
          ]
        }
      ],
      "source": [
        "!cat /content/email_category.md"
      ]
    },
    {
      "cell_type": "code",
      "execution_count": null,
      "metadata": {
        "colab": {
          "base_uri": "https://localhost:8080/"
        },
        "id": "uoxqQFpvpW2y",
        "outputId": "c3104c68-6716-49ec-aff6-5c3e7bd438ea"
      },
      "outputs": [
        {
          "name": "stdout",
          "output_type": "stream",
          "text": [
            "Hi George, \n",
            "\n",
            "Thank you for reaching out to us about the weather at the resort. I'm sorry to hear it didn't meet your expectations. \n",
            "\n",
            "However, I'm a bit confused about the context of your email. Could you please provide more information about your experience and what you were hoping to achieve with your song 'Here comes the sun but it never came'? \n",
            "\n",
            "Additionally, I'd be happy to provide you with information about the weather in Arizona in April. According to our research, the temperatures in Arizona in April are comfortable with a low of 64°F and a high of 84°F. You can expect a few rainy days in Arizona during April, but usually, the weather is comfortable during this time. \n",
            "\n",
            "Please let me know if there's anything else I can assist you with. \n",
            "\n",
            "Best regards,\n",
            "Sarah, Resident Manager"
          ]
        }
      ],
      "source": [
        "!cat /content/draft_email.md"
      ]
    },
    {
      "cell_type": "code",
      "execution_count": null,
      "metadata": {
        "id": "Q48pvLR4pW4M"
      },
      "outputs": [],
      "source": []
    },
    {
      "cell_type": "code",
      "execution_count": null,
      "metadata": {
        "id": "_omaMgR5pW6P"
      },
      "outputs": [],
      "source": []
    }
  ],
  "metadata": {
    "colab": {
      "provenance": []
    },
    "kernelspec": {
      "display_name": "Python 3",
      "name": "python3"
    },
    "language_info": {
      "codemirror_mode": {
        "name": "ipython",
        "version": 3
      },
      "file_extension": ".py",
      "mimetype": "text/x-python",
      "name": "python",
      "nbconvert_exporter": "python",
      "pygments_lexer": "ipython3",
      "version": "3.12.3"
    }
  },
  "nbformat": 4,
  "nbformat_minor": 0
}
