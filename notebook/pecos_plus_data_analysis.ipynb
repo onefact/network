{
 "cells": [
  {
   "cell_type": "code",
   "execution_count": 26,
   "metadata": {},
   "outputs": [],
   "source": [
    "import kuzu\n",
    "import psutil\n"
   ]
  },
  {
   "cell_type": "code",
   "execution_count": 27,
   "metadata": {},
   "outputs": [
    {
     "name": "stdout",
     "output_type": "stream",
     "text": [
      "Database directory size: 5474.52 MB\n"
     ]
    }
   ],
   "source": [
    "import os\n",
    "\n",
    "db_path = '/Users/tommyly/Downloads/pecos_plus.db'\n",
    "\n",
    "if os.path.isfile(db_path):\n",
    "    size = os.path.getsize(db_path)\n",
    "    print(f\"Database file size: {size / (1024 * 1024):.2f} MB\")\n",
    "elif os.path.isdir(db_path):\n",
    "    total_size = sum(os.path.getsize(os.path.join(dirpath,filename)) for dirpath, dirnames, filenames in os.walk(db_path) for filename in filenames)\n",
    "    print(f\"Database directory size: {total_size / (1024 * 1024):.2f} MB\")\n",
    "else:\n",
    "    print(\"Database path not found\")"
   ]
  },
  {
   "cell_type": "code",
   "execution_count": 28,
   "metadata": {},
   "outputs": [
    {
     "name": "stdout",
     "output_type": "stream",
     "text": [
      "Available memory: 1777.58 MB\n",
      "Successfully opened the database\n",
      "An error occurred: std::bad_alloc\n",
      "Available memory after attempt: 1756.95 MB\n",
      "Kuzu version: 0.4.2\n"
     ]
    }
   ],
   "source": [
    "import kuzu\n",
    "import psutil\n",
    "\n",
    "print(f\"Available memory: {psutil.virtual_memory().available / (1024 * 1024):.2f} MB\")\n",
    "\n",
    "db_path = '/Users/tommyly/Downloads/pecos_plus.db'\n",
    "\n",
    "try:\n",
    "    # Open the database with absolute minimal settings\n",
    "    db = kuzu.Database(db_path, buffer_pool_size=1*1024*1024, lazy_init=True, read_only=True)\n",
    "    print(\"Successfully opened the database\")\n",
    "    \n",
    "    # Try to get just one node label\n",
    "    conn = kuzu.Connection(db)\n",
    "    node_label = conn.query(\"CALL kuzu.list_node_labels() LIMIT 1\")\n",
    "    print(\"First node label:\", node_label)\n",
    "\n",
    "except Exception as e:\n",
    "    print(f\"An error occurred: {e}\")\n",
    "\n",
    "print(f\"Available memory after attempt: {psutil.virtual_memory().available / (1024 * 1024):.2f} MB\")\n",
    "print(\"Kuzu version:\", kuzu.__version__)"
   ]
  },
  {
   "cell_type": "code",
   "execution_count": null,
   "metadata": {},
   "outputs": [],
   "source": []
  }
 ],
 "metadata": {
  "kernelspec": {
   "display_name": "base",
   "language": "python",
   "name": "python3"
  },
  "language_info": {
   "codemirror_mode": {
    "name": "ipython",
    "version": 3
   },
   "file_extension": ".py",
   "mimetype": "text/x-python",
   "name": "python",
   "nbconvert_exporter": "python",
   "pygments_lexer": "ipython3",
   "version": "3.10.9"
  }
 },
 "nbformat": 4,
 "nbformat_minor": 2
}
