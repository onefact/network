{
 "cells": [
  {
   "cell_type": "code",
   "execution_count": 19,
   "metadata": {},
   "outputs": [
    {
     "name": "stdout",
     "output_type": "stream",
     "text": [
      "Successfully opened the database\n",
      "An error occurred: 'Connection' object has no attribute 'query'\n",
      "Kuzu version: 0.5.0\n"
     ]
    }
   ],
   "source": [
    "import kuzu\n",
    "\n",
    "db_path = '/Users/tommyly/network/data/staging/pecos_plus.db'\n",
    "\n",
    "try:\n",
    "    # Open the database with minimal settings\n",
    "    db = kuzu.Database(db_path, buffer_pool_size=1*1024*1024, lazy_init=True, read_only=True)\n",
    "    print(\"Successfully opened the database\")\n",
    "    \n",
    "    # Try to get just one node label\n",
    "    conn = kuzu.Connection(db)\n",
    "    node_label = conn.query(\"CALL kuzu.list_node_labels() LIMIT 1\")\n",
    "    print(\"First node label:\", node_label)\n",
    "\n",
    "except Exception as e:\n",
    "    print(f\"An error occurred: {e}\")\n",
    "\n",
    "print(\"Kuzu version:\", kuzu.__version__)"
   ]
  },
  {
   "cell_type": "code",
   "execution_count": 24,
   "metadata": {},
   "outputs": [
    {
     "name": "stdout",
     "output_type": "stream",
     "text": [
      "Successfully opened the database\n",
      "An error occurred: Parser exception: extraneous input 'SHOW' expecting {ALTER, ATTACH, BEGIN, CALL, CHECKPOINT, COMMENT, COMMIT, COPY, CREATE, DELETE, DETACH, DROP, EXPLAIN, EXPORT, IMPORT, INSTALL, LOAD, MATCH, MERGE, OPTIONAL, PROFILE, PROJECT, RETURN, ROLLBACK, SET, UNWIND, USE, WITH, SP} (line: 1, offset: 0)\n",
      "\"SHOW NODE LABELS\"\n",
      " ^^^^\n",
      "Kuzu version: 0.5.0\n"
     ]
    }
   ],
   "source": [
    "import kuzu\n",
    "\n",
    "db_path = '/Users/tommyly/network/data/staging/pecos_plus.db'\n",
    "\n",
    "try:\n",
    "    # Open the database with read-write access\n",
    "    db = kuzu.Database(db_path, buffer_pool_size=1*1024*1024, lazy_init=True, read_only=False)\n",
    "    print(\"Successfully opened the database\")\n",
    "    \n",
    "    # Create a connection\n",
    "    conn = kuzu.Connection(db)\n",
    "    \n",
    "    # Try to get node labels using a different query\n",
    "    node_labels = conn.execute(\"SHOW NODE LABELS\")\n",
    "    result = node_labels.fetchall()\n",
    "    if result:\n",
    "        print(\"Node labels:\", [label[0] for label in result])\n",
    "    else:\n",
    "        print(\"No node labels found\")\n",
    "\n",
    "    # Optionally, try to get some data\n",
    "    sample_query = conn.execute(\"MATCH (n) RETURN n LIMIT 1\")\n",
    "    sample_result = sample_query.fetchone()\n",
    "    if sample_result:\n",
    "        print(\"Sample node:\", sample_result[0])\n",
    "    else:\n",
    "        print(\"No nodes found in the database\")\n",
    "\n",
    "except Exception as e:\n",
    "    print(f\"An error occurred: {e}\")\n",
    "\n",
    "finally:\n",
    "    if 'db' in locals():\n",
    "        db.close()\n",
    "\n",
    "print(\"Kuzu version:\", kuzu.__version__)"
   ]
  },
  {
   "cell_type": "code",
   "execution_count": null,
   "metadata": {},
   "outputs": [],
   "source": []
  }
 ],
 "metadata": {
  "kernelspec": {
   "display_name": "base",
   "language": "python",
   "name": "python3"
  },
  "language_info": {
   "codemirror_mode": {
    "name": "ipython",
    "version": 3
   },
   "file_extension": ".py",
   "mimetype": "text/x-python",
   "name": "python",
   "nbconvert_exporter": "python",
   "pygments_lexer": "ipython3",
   "version": "3.12.4"
  }
 },
 "nbformat": 4,
 "nbformat_minor": 2
}
